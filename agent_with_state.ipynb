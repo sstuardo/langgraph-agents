{
 "cells": [
  {
   "cell_type": "code",
   "id": "initial_id",
   "metadata": {
    "collapsed": true,
    "ExecuteTime": {
     "end_time": "2025-03-13T12:09:38.847618Z",
     "start_time": "2025-03-13T12:09:38.831159Z"
    }
   },
   "source": [
    "import os\n",
    "from langchain_openai import ChatOpenAI\n",
    "from dotenv import load_dotenv\n",
    "\n",
    "# Cargar las variables del archivo .env\n",
    "load_dotenv()\n",
    "\n",
    "# Leer la clave API desde el archivo .env\n",
    "api_key = os.getenv(\"OPENAI_API_KEY\")\n",
    "llm = ChatOpenAI(model=\"gpt-4o-mini\", api_key=api_key)\n"
   ],
   "outputs": [],
   "execution_count": 12
  },
  {
   "metadata": {
    "ExecuteTime": {
     "end_time": "2025-03-13T13:51:34.875571Z",
     "start_time": "2025-03-13T13:51:28.744625Z"
    }
   },
   "cell_type": "code",
   "source": [
    "# Schema for structured output\n",
    "from pydantic import BaseModel, Field\n",
    "\n",
    "class SearchQuery(BaseModel):\n",
    "    search_query: str = Field(None, description=\"Query that is optimized web search.\")\n",
    "    justification: str = Field(None, justification=\"Why this query is relevant to the user's request.\")\n",
    "    responder: str = Field(None, description=\"Response from the LLM.\")\n",
    "    search_results: list[str] = Field(None, description=\"List of search results.\")\n",
    "    search_results_summary: str = Field(None, description=\"Summary of search results.\")\n",
    "\n",
    "# Augment the LLM with schema for structured output\n",
    "structured_llm = llm.with_structured_output(SearchQuery)\n",
    "\n",
    "# Invoke the augmented LLM\n",
    "output = structured_llm.invoke(\"La obediencia a los pastores es totalitaria y unilateral en todo orden de cosas en la iglesia cristiana?\")\n",
    "print(f\"SEARCH QUERY: {output.search_query}\\n\")\n",
    "print(f\"JUSTIFICATION: {output.justification}\\n\")\n",
    "print(f\"RESPONDER: {output.responder}\\n\")\n",
    "print(f\"SEARCH RESULTS: {output.search_results}\\n\")\n",
    "print(f\"SEARCH RESULTS SUMMARY: {output.search_results_summary}\")\n",
    "\n",
    "\n"
   ],
   "id": "ff192e7110aa2b3a",
   "outputs": [
    {
     "name": "stdout",
     "output_type": "stream",
     "text": [
      "SEARCH QUERY: obediencia a los pastores en la iglesia cristiana totalitaria unilateral\n",
      "\n",
      "JUSTIFICATION: Esta consulta busca explorar la dinámica de poder y autoridad dentro de las iglesias cristianas, lo que puede revelar si la obediencia a los pastores es realmente unilateral y totalitaria, y cómo se manifiestan estas obediencias dentro de diferentes denominaciones o comunidades.\n",
      "\n",
      "RESPONDER: La obediencia a los pastores puede variar significativamente entre diferentes iglesias cristianas. En algunas denominaciones, se promueve una total dependencia y obediencia a la autoridad del pastor, mientras que en otras se fomenta un modelo más colaborativo donde se toman decisiones en conjunto. La percepción de una obediencia unilateral y totalitaria puede surgir en contextos donde los líderes ejercen un control alto sobre los miembros, sin permitir discusión ni objeción, lo que puede ser visto como problemático. Sin embargo, no todas las congregaciones operan de esta manera, y muchas abogan por una ilustración más equitativa y dialogante.\n",
      "\n",
      "SEARCH RESULTS: ['La estructura jerárquica en las iglesias cristianas y el papel de los pastores', 'Obediencia y autoritarismo en la iglesia: un análisis crítico', 'Modelos de liderazgo en las congregaciones cristianas', 'La desobediencia a la autoridad pastoral: un estudio de caso', 'Teología de la obediencia en el cristianismo']\n",
      "\n",
      "SEARCH RESULTS SUMMARY: Los resultados encontrados muestran una variedad de perspectivas sobre la obediencia a los pastores en diferentes contextos de la iglesia. Algunos artículos examinan la jerarquía y el autoritarismo, mientras que otros presentan modelos alternativos de liderazgo donde la obediencia no es unilateral. Así, la dinámica de obediencia puede depender muchisimo del trasfondo denominacional y del contexto comunitario.\n"
     ]
    }
   ],
   "execution_count": 30
  },
  {
   "metadata": {},
   "cell_type": "markdown",
   "source": [
    "# Prompt Chaining\n",
    "\n",
    "![prompt_chaining](img/prompt_chaining.png \"Prompt_chaining\")\n",
    "\n",
    "Each LLM call processes  the putput  of the previous one:\n",
    "- E.g., when decomposing a task into multiple LLM calls has benefit\n",
    "\n",
    "## Example\n",
    "\n",
    "_Take a topic, LLM make a joke, LLM improve the joke, LLM transform a chilean joke._\n"
   ],
   "id": "11edf4870a550747"
  },
  {
   "metadata": {
    "ExecuteTime": {
     "end_time": "2025-03-13T12:09:38.852998Z",
     "start_time": "2025-03-13T12:09:38.850909Z"
    }
   },
   "cell_type": "code",
   "source": [
    "from typing_extensions import TypedDict\n",
    "\n",
    "# Graph State\n",
    "class State(TypedDict):\n",
    "    topic: str\n",
    "    joke: str\n",
    "    improved_joke: str\n",
    "    final_joke: str\n"
   ],
   "id": "dd3e96b8ee4af930",
   "outputs": [],
   "execution_count": 13
  },
  {
   "metadata": {
    "ExecuteTime": {
     "end_time": "2025-03-13T12:09:38.861027Z",
     "start_time": "2025-03-13T12:09:38.858315Z"
    }
   },
   "cell_type": "code",
   "source": [
    "# Nodes\n",
    "def generate_joke(state: State):\n",
    "    \"\"\"First LLM call to generate a initial joke.\"\"\"\n",
    "\n",
    "    msg = llm.invoke(f\"Write a short joke about {state['topic']}.\")\n",
    "    return {\"joke\": msg.content}\n",
    "\n",
    "def improve_joke(state: State):\n",
    "    \"\"\"Second LLM call to improve the joke.\"\"\"\n",
    "\n",
    "    msg = llm.invoke(f\"Make this joke funnier by adding wordplay: {state['joke']}\")\n",
    "    return {\"improved_joke\": msg.content}\n",
    "\n",
    "def chilean_joke(state: State):\n",
    "    \"\"\"Third LLM call for final chilean joke.\"\"\"\n",
    "\n",
    "    msg = llm.invoke(f\"Add a surprising twist to this joke: {state['improved_joke']}\")\n",
    "    return {\"final_joke\": msg.content}\n",
    "\n",
    "# Conditional edge function  to check  if the joke  has a punchline\n",
    "def check_punchline(state: State):\n",
    "    \"\"\"Gate function to check if the joke has a punchline.\"\"\"\n",
    "\n",
    "    # Simple check - does  the joke contain \"?\" or \"!\"\n",
    "    if \"?\" in state[\"joke\"] or \"!\" in state[\"joke\"]:\n",
    "        return \"Pass\"\n",
    "    return \"Fail\""
   ],
   "id": "36a43352a5967d2a",
   "outputs": [],
   "execution_count": 14
  },
  {
   "metadata": {
    "ExecuteTime": {
     "end_time": "2025-03-13T12:09:39.333650Z",
     "start_time": "2025-03-13T12:09:38.865577Z"
    }
   },
   "cell_type": "code",
   "source": [
    "from langgraph.graph import StateGraph, END, START\n",
    "from IPython.display import display, Image\n",
    "\n",
    "# Build workflow\n",
    "workflow = StateGraph(State)\n",
    "\n",
    "# Add Nodes\n",
    "workflow.add_node(\"generate_joke\", generate_joke)\n",
    "workflow.add_node(\"improve_joke\", improve_joke)\n",
    "workflow.add_node(\"chilean_joke\", chilean_joke)\n",
    "\n",
    "# Add Edges to connect nodes\n",
    "workflow.add_edge(START, \"generate_joke\")\n",
    "workflow.add_conditional_edges(\n",
    "    \"generate_joke\", check_punchline, {\"Pass\": \"improve_joke\", \"Fail\": END}\n",
    ")\n",
    "workflow.add_edge(\"improve_joke\", \"chilean_joke\")\n",
    "workflow.add_edge(\"chilean_joke\", END)\n",
    "\n",
    "# Compile\n",
    "chain =  workflow.compile()\n",
    "\n",
    "# Show workflow\n",
    "display(Image(chain.get_graph().draw_mermaid_png()))"
   ],
   "id": "9394e40ed332c9f7",
   "outputs": [
    {
     "data": {
      "image/png": "[encoded data removed]",
      "text/plain": [
       "<IPython.core.display.Image object>"
      ]
     },
     "metadata": {},
     "output_type": "display_data"
    }
   ],
   "execution_count": 15
  },
  {
   "metadata": {
    "ExecuteTime": {
     "end_time": "2025-03-13T12:09:43.345233Z",
     "start_time": "2025-03-13T12:09:39.341715Z"
    }
   },
   "cell_type": "code",
   "source": [
    "state = chain.invoke({\"topic\": \"ñuñoinos progres\"})\n",
    "print(\"Inital joke: \")\n",
    "print(state[\"joke\"])\n",
    "print(\"\\n--- --- ---\")\n",
    "if \"improved_joke\" in state:\n",
    "    print(\"Improved joke: \")\n",
    "    print(state[\"improved_joke\"])\n",
    "    print(\"\\n--- --- ---\")\n",
    "\n",
    "    print(\"Final joke: \")\n",
    "    print(state[\"final_joke\"])\n",
    "else :\n",
    "    print(\"Joke failed quality gate - no punchline detetected!\")"
   ],
   "id": "73f6fe0c4ca78709",
   "outputs": [
    {
     "name": "stdout",
     "output_type": "stream",
     "text": [
      "Inital joke: \n",
      "¿Por qué los ñuñoinos progres nunca se pierden? \n",
      "\n",
      "Porque siempre están a la \"vanguardia\" de la conversación.\n",
      "\n",
      "--- --- ---\n",
      "Improved joke: \n",
      "¿Por qué los ñuñoinos progres nunca se pierden? \n",
      "\n",
      "Porque siempre están a la “vanguardia” de la conversación, ¡y nunca les falta la \"dirección\" correcta!\n",
      "\n",
      "--- --- ---\n",
      "Final joke: \n",
      "¿Por qué los ñuñoinos progres nunca se pierden? \n",
      "\n",
      "Porque siempre están a la “vanguardia” de la conversación, ¡y nunca les falta la \"dirección\" correcta! Pero si alguna vez se extravían, ¡es porque se detuvieron a debatir si el mapa era inclusivo y sostenible!\n"
     ]
    }
   ],
   "execution_count": 16
  },
  {
   "metadata": {},
   "cell_type": "markdown",
   "source": [
    "# Parallelization\n",
    "![Parallelization](img/parallelization.png \"Parallelization\")\n",
    "\n",
    "- Sub-tasks can be parallelized.\n",
    "  - E.g., when you want multi-perspectives for one task (multi-query for RAG).\n",
    "  - E.g., when independent tasks can be performed w/ different prompts.\n",
    "\n",
    "\n",
    "- Las subtareas pueden paralelizarse.\n",
    "  - Por ejemplo, cuando se desean múltiples perspectivas para una tarea (consulta múltiple para RAG).\n",
    "  - Por ejemplo, cuando las tareas independientes pueden realizarse con diferentes indicaciones (prompts).\n",
    "\n",
    "## Example:\n",
    "_Take a topic, create a Joke, Story and Poem._\n"
   ],
   "id": "d783aad1340aff97"
  },
  {
   "metadata": {
    "ExecuteTime": {
     "end_time": "2025-03-13T12:34:03.183477Z",
     "start_time": "2025-03-13T12:34:03.181133Z"
    }
   },
   "cell_type": "code",
   "source": [
    "# Graph state\n",
    "class State(TypedDict):\n",
    "    topic: str\n",
    "    joke: str\n",
    "    story: str\n",
    "    poem: str\n",
    "    combined_output: str"
   ],
   "id": "75a302f2a280b94f",
   "outputs": [],
   "execution_count": 17
  },
  {
   "metadata": {
    "ExecuteTime": {
     "end_time": "2025-03-13T13:16:23.940923Z",
     "start_time": "2025-03-13T13:16:23.936598Z"
    }
   },
   "cell_type": "code",
   "source": [
    "# Nodes\n",
    "\n",
    "def generate_joke(state: State):\n",
    "    \"\"\"First LLM call to generate a initial joke.\"\"\"\n",
    "\n",
    "    msg = llm.invoke(f\"Write a short joke about {state['topic']}.\")\n",
    "    return {\"joke\": msg.content}\n",
    "\n",
    "def generate_story(state: State):\n",
    "    \"\"\"Second LLM call to generate a story.\"\"\"\n",
    "\n",
    "    msg = llm.invoke(f\"Write a short story about {state['topic']}.\")\n",
    "    return {\"story\": msg.content}\n",
    "\n",
    "def generate_poem(state: State):\n",
    "    \"\"\"Third LLM call to generate a poem.\"\"\"\n",
    "\n",
    "    msg = llm.invoke(f\"Write a short poem about {state['topic']}.\")\n",
    "    return {\"poem\": msg.content}\n",
    "\n",
    "def aggregator(state: State):\n",
    "    \"\"\"Combine the joke, story and peom into a single output.\"\"\"\n",
    "\n",
    "    combined = f\"\"\"This is a combintation of a joke, a story and a poem about {state['topic']}.\n",
    "\n",
    "JOKE: {state['joke']}\n",
    "\n",
    "STORY: {state['story']}\n",
    "\n",
    "POEM: {state['poem']}\"\"\"\n",
    "\n",
    "    return {\"combined_output\": combined}"
   ],
   "id": "e9bc29dcd0474e63",
   "outputs": [],
   "execution_count": 21
  },
  {
   "metadata": {
    "ExecuteTime": {
     "end_time": "2025-03-13T13:16:25.908818Z",
     "start_time": "2025-03-13T13:16:25.338654Z"
    }
   },
   "cell_type": "code",
   "source": [
    "# Build Workflow\n",
    "parallel_builder = StateGraph(State)\n",
    "\n",
    "# Add Nodes\n",
    "parallel_builder.add_node(\"generate_joke\", generate_joke)\n",
    "parallel_builder.add_node(\"generate_story\", generate_story)\n",
    "parallel_builder.add_node(\"generate_poem\", generate_poem)\n",
    "parallel_builder.add_node(\"aggregator\", aggregator)\n",
    "\n",
    "# Add Edges and connect nodes\n",
    "parallel_builder.add_edge(START, \"generate_joke\")\n",
    "parallel_builder.add_edge(START, \"generate_story\")\n",
    "parallel_builder.add_edge(START, \"generate_poem\")\n",
    "parallel_builder.add_edge(\"generate_joke\", \"aggregator\")\n",
    "parallel_builder.add_edge(\"generate_story\", \"aggregator\")\n",
    "parallel_builder.add_edge(\"generate_poem\", \"aggregator\")\n",
    "parallel_builder.add_edge(\"aggregator\", END)\n",
    "\n",
    "parallel_workflow = parallel_builder.compile()\n",
    "\n",
    "# Show workflow\n",
    "display(Image(parallel_workflow.get_graph().draw_mermaid_png()))"
   ],
   "id": "2be20ac9d5a98faf",
   "outputs": [
    {
     "data": {
      "image/png": "[encoded data removed]",
      "text/plain": [
       "<IPython.core.display.Image object>"
      ]
     },
     "metadata": {},
     "output_type": "display_data"
    }
   ],
   "execution_count": 22
  },
  {
   "metadata": {
    "ExecuteTime": {
     "end_time": "2025-03-13T13:16:42.578628Z",
     "start_time": "2025-03-13T13:16:26.234155Z"
    }
   },
   "cell_type": "code",
   "source": [
    "state = parallel_workflow.invoke({\"topic\": \"Amor a las hijas\"})\n",
    "print(state[\"combined_output\"])"
   ],
   "id": "4fd1c037883f112c",
   "outputs": [
    {
     "name": "stdout",
     "output_type": "stream",
     "text": [
      "This is a combintation of a joke, a story and a poem about Amor a las hijas.\n",
      "\n",
      "JOKE: ¿Por qué a las hijas les encanta el amor? \n",
      "\n",
      "¡Porque siempre saben cómo \"hija\" dejarte sonriendo!\n",
      "\n",
      "STORY: **Amor a las Hijas**\n",
      "\n",
      "En un pequeño pueblo rodeado de montañas, vivía una mujer llamada Clara. Desde el día en que se convirtieron en madre, su vida giró en torno a sus dos hijas: Valentina, la mayor, y Sofía, la pequeña. Clara había crecido sin una figura materna en su vida; su madre había fallecido cuando ella era apenas una niña. Gracias a esa experiencia, Clara se prometió ser el mejor ejemplo y el refugio incondicional que sus hijas necesitaran.\n",
      "\n",
      "Cada mañana, el despertar en la casa era un ritual especial. Las risas de Valentina y Sofía resonaban en la cocina mientras Clara preparaba desayuno. Con el aroma del café y las tostadas recién hechas en el aire, Clara les contaba cuentos antes de ir a la escuela. Las historias hablaban de heroínas valientes, reinos lejanos y aventuras fascinantes, tan cautivadoras que las niñas a menudo pedían que repitiera las historias una y otra vez.\n",
      "\n",
      "A medida que las hijas crecían, Clara veía cómo sus personalidades florecían. Valentina, con su espíritu soñador, deseaba ser artista, mientras que Sofía, la pragmática y resolutiva, soñaba con ser científica. Clara las apoyaba en sus pasiones, a veces sacrificando su propio tiempo y sueños, pero la sonrisa en los rostros de sus hijas era el único reconocimiento que necesitaba.\n",
      "\n",
      "Los fines de semana, Clara organizaba excursiones a la montaña. Escalar la colina donde habían construido un pequeño mirador se convirtió en una tradición familiar. Desde allí, podían ver todo el valle: los campos de flores brillando en amarillo y el río que serpenteaba como una cinta plateada. Era en esos momentos de paz y belleza donde Clara les hablaba de la importancia de los sueños, la fuerza del amor y la resiliencia que necesitaban para enfrentar el mundo. Les decía: “El amor a las hijas no se mide en palabras, sino en acciones.”\n",
      "\n",
      "Sin embargo, la vida tenía sus propios planes. Un invierno implacable trajo consigo una serie de desafíos. Clara perdió su trabajo en la tienda del pueblo y, con ello, la estabilidad económica de su familia. Las noches se volvieron largas y difíciles, llenas de preocupaciones sobre cómo llegarían a fin de mes. Pero Clara jamás permitió que sus hijas vieran su angustia. En lugar de eso, transformó las adversidades en lecciones sobre la importancia del trabajo en equipo y la unidad familiar. Cada noche, se sentaban juntos a realizar manualidades, creando adornos y juguetes, y así, poco a poco, aprendieron a sacar el máximo partido de lo que tenían.\n",
      "\n",
      "Las estaciones cambiaron, y con el tiempo, Clara logró encontrar un nuevo trabajo. Sin embargo, algo había cambiado en las hijas. Valentina comenzó a pintar sus sueños, y Sofía, inspirada por los retos que habían enfrentado, comenzó a participar en concursos de ciencia en la escuela. El amor que Clara sembró en sus corazones floreció en sus propias pasiones.\n",
      "\n",
      "Un día, al recorrer las obras de la exposición de arte de Valentina, Clara sintió un calor en el pecho. Su hija, con su talento, había logrado que el pueblo se detuviera a admirar la belleza que emanaba de su alma. En la misma semana, Sofía ganó un importante concurso de ciencias que había visibilizado sus innovadoras ideas sobre el medio ambiente. Las dos hijas brillaban con luz propia, y Clara, al verlas triunfar, sintió que todos sus sacrificios valieron la pena.\n",
      "\n",
      "Años después, sentadas juntas en el mirador que habían construido, Valentina y Sofía miraron a su madre con una mezcla de amor y admiración. Clara, con lágrimas de felicidad y gratitud, comprendió que el amor a las hijas no era solo un acto de entrega, sino que también era el arte de empoderar, de dejar que sus propios sueños nacieran y florecieran. En ese mirador, rodeadas por el paisaje que había acogido sus historias, eran un testimonio del amor perdurable y la fuerza de las mujeres, unidas por la sangre y el corazón.\n",
      "\n",
      "POEM: En el jardín de la vida, florecen,  \n",
      "las hijas, tesoros que el alma enriquece.  \n",
      "Con risas y sueños, su luz se despliega,  \n",
      "un amor que en el tiempo siempre se niega.  \n",
      "\n",
      "Sus manos pequeñas, forjando su senda,  \n",
      "en cada abrazo, la vida se enmienda.  \n",
      "Son ríos dorados, corriendo en mi ser,  \n",
      "en su mirada, el mundo vuelve a nacer.  \n",
      "\n",
      "Amor eterno, un lazo sagrado,  \n",
      "en cada paso, el corazón ha hablado.  \n",
      "Hijas del alma, en su andar tan bello,  \n",
      "mi vida, mi canto, mi mayor destello.  \n"
     ]
    }
   ],
   "execution_count": 23
  },
  {
   "metadata": {},
   "cell_type": "markdown",
   "source": [
    "# Routing\n",
    "\n",
    "![Routing](img/routing.png \"routing\")\n",
    "\n",
    "Routing classifies an input and directs it to a specialized follow-up task.\n",
    "- E.g., when routing a question to different retrieval systems.\n",
    "\n",
    "El enrutamiento clasifica una entrada y la dirige a una tarea de seguimiento especializada.\n",
    "- Por ejemplo, cuando se enruta una pregunta a diferentes sistemas de recuperación.\n",
    "\n",
    "Example:\n",
    "- Route an input between joke, story, and poem.\n",
    "\n",
    "\n",
    "\n",
    "\n",
    "\n"
   ],
   "id": "42f1cd5cc04f9594"
  },
  {
   "metadata": {
    "ExecuteTime": {
     "end_time": "2025-03-13T13:55:37.165543Z",
     "start_time": "2025-03-13T13:55:37.161811Z"
    }
   },
   "cell_type": "code",
   "source": [
    "from typing_extensions import Literal\n",
    "from pydantic import  Field, BaseModel\n",
    "\n",
    "# Schema for structured output to use  as routing logic\n",
    "class Route(BaseModel):\n",
    "    step: Literal[\"joke\", \"story\", \"poem\"] = Field(None, description=\"The next step in the routing process\")\n",
    "\n",
    "# Augment the LLM  with schema  for structured output\n",
    "router = llm.with_structured_output(Route)\n"
   ],
   "id": "9d5cefd82ac08bc0",
   "outputs": [],
   "execution_count": 31
  },
  {
   "metadata": {},
   "cell_type": "code",
   "outputs": [],
   "execution_count": null,
   "source": "",
   "id": "646a21277989fef8"
  }
 ],
 "metadata": {
  "kernelspec": {
   "display_name": "Python 3",
   "language": "python",
   "name": "python3"
  },
  "language_info": {
   "codemirror_mode": {
    "name": "ipython",
    "version": 2
   },
   "file_extension": ".py",
   "mimetype": "text/x-python",
   "name": "python",
   "nbconvert_exporter": "python",
   "pygments_lexer": "ipython2",
   "version": "2.7.6"
  }
 },
 "nbformat": 4,
 "nbformat_minor": 5
}
