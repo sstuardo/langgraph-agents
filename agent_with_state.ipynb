{
 "cells": [
  {
   "cell_type": "code",
   "id": "initial_id",
   "metadata": {
    "collapsed": true,
    "ExecuteTime": {
     "end_time": "2025-03-20T13:38:31.029054Z",
     "start_time": "2025-03-20T13:38:31.016739Z"
    }
   },
   "source": [
    "import os\n",
    "from pickletools import decimalnl_short\n",
    "from langgraph.graph import StateGraph, END, START\n",
    "from IPython.display import display, Image\n",
    "from pydantic import BaseModel, Field\n",
    "from typing_extensions import TypedDict\n",
    "from typing_extensions import Literal\n",
    "\n",
    "from langchain_openai import ChatOpenAI\n",
    "from dotenv import load_dotenv\n",
    "\n",
    "# Cargar las variables del archivo .env\n",
    "load_dotenv()\n",
    "\n",
    "# Leer la clave API desde el archivo .env\n",
    "api_key = os.getenv(\"OPENAI_API_KEY\")\n",
    "llm = ChatOpenAI(model=\"gpt-4o-mini\", api_key=api_key)\n"
   ],
   "outputs": [],
   "execution_count": 150
  },
  {
   "metadata": {
    "ExecuteTime": {
     "end_time": "2025-03-20T13:38:37.306552Z",
     "start_time": "2025-03-20T13:38:31.034503Z"
    }
   },
   "cell_type": "code",
   "source": [
    "# Schema for structured output\n",
    "\n",
    "\n",
    "class SearchQuery(BaseModel):\n",
    "    search_query: str = Field(None, description=\"Query that is optimized web search.\")\n",
    "    justification: str = Field(None, justification=\"Why this query is relevant to the user's request.\")\n",
    "    responder: str = Field(None, description=\"Response from the LLM.\")\n",
    "    search_results: list[str] = Field(None, description=\"List of search results.\")\n",
    "    search_results_summary: str = Field(None, description=\"Summary of search results.\")\n",
    "\n",
    "# Augment the LLM with schema for structured output\n",
    "structured_llm = llm.with_structured_output(SearchQuery)\n",
    "\n",
    "# Invoke the augmented LLM\n",
    "output = structured_llm.invoke(\"La obediencia a los pastores es totalitaria y unilateral en todo orden de cosas en la iglesia cristiana?\")\n",
    "print(f\"SEARCH QUERY: {output.search_query}\\n\")\n",
    "print(f\"JUSTIFICATION: {output.justification}\\n\")\n",
    "print(f\"RESPONDER: {output.responder}\\n\")\n",
    "print(f\"SEARCH RESULTS: {output.search_results}\\n\")\n",
    "print(f\"SEARCH RESULTS SUMMARY: {output.search_results_summary}\")\n",
    "\n",
    "\n"
   ],
   "id": "ff192e7110aa2b3a",
   "outputs": [
    {
     "name": "stdout",
     "output_type": "stream",
     "text": [
      "SEARCH QUERY: Totalitarian and unilateral obedience to pastors in Christian church\n",
      "\n",
      "JUSTIFICATION: The question seeks to explore the nature of obedience within the Christian church and how it relates to authority dynamics between congregations and their leaders.\n",
      "\n",
      "RESPONDER: En la iglesia cristiana, la obediencia a los pastores puede variar según la denominación y la cultura de la congregación. Sin embargo, algunos críticos argumentan que en ciertas comunidades la obediencia se percibe como totalitaria y unilateral, donde los pastores ejercen un control sobre los miembros de la iglesia que limita la autonomía y la capacidad de cuestionar decisiones. Este enfoque puede provocar un ambiente donde se espera que los fieles sigan las enseñanzas y decisiones del pastor sin resistencia. Por otra parte, también hay congregaciones donde se reconoce la importancia de la voz de la comunidad y se fomenta un modelo de liderazgo más colaborativo.\n",
      "\n",
      "SEARCH RESULTS: ['Do church leaders want more control over their congregations?', 'The dynamics of church authority: Understanding pastor-congregation relationships', 'Obedience in the church: A theological perspective', 'The role of authority in Christian leadership', 'Totalitarianism in religious organizations: A critical analysis']\n",
      "\n",
      "SEARCH RESULTS SUMMARY: The search results indicate various articles and studies focusing on leadership dynamics within churches, the nature of obedience, and authority structures. Some results highlight the potential for unilateral obedience while others present a more nuanced understanding of congregation-pastor relationships.\n"
     ]
    }
   ],
   "execution_count": 151
  },
  {
   "metadata": {},
   "cell_type": "markdown",
   "source": [
    "# Prompt Chaining\n",
    "\n",
    "![prompt_chaining](img/prompt_chaining.png \"Prompt_chaining\")\n",
    "\n",
    "Each LLM call processes  the putput  of the previous one:\n",
    "- E.g., when decomposing a task into multiple LLM calls has benefit\n",
    "\n",
    "## Example\n",
    "\n",
    "_Take a topic, LLM make a joke, LLM improve the joke, LLM transform a chilean joke._\n"
   ],
   "id": "11edf4870a550747"
  },
  {
   "metadata": {
    "ExecuteTime": {
     "end_time": "2025-03-20T13:38:37.369287Z",
     "start_time": "2025-03-20T13:38:37.366985Z"
    }
   },
   "cell_type": "code",
   "source": [
    "\n",
    "# Graph State\n",
    "class State(TypedDict):\n",
    "    topic: str\n",
    "    joke: str\n",
    "    improved_joke: str\n",
    "    final_joke: str\n"
   ],
   "id": "dd3e96b8ee4af930",
   "outputs": [],
   "execution_count": 152
  },
  {
   "metadata": {
    "ExecuteTime": {
     "end_time": "2025-03-20T13:38:37.386696Z",
     "start_time": "2025-03-20T13:38:37.383800Z"
    }
   },
   "cell_type": "code",
   "source": [
    "# Nodes\n",
    "def generate_joke(state: State):\n",
    "    \"\"\"First LLM call to generate a initial joke.\"\"\"\n",
    "\n",
    "    msg = llm.invoke(f\"Write a short joke about {state['topic']}.\")\n",
    "    return {\"joke\": msg.content}\n",
    "\n",
    "def improve_joke(state: State):\n",
    "    \"\"\"Second LLM call to improve the joke.\"\"\"\n",
    "\n",
    "    msg = llm.invoke(f\"Make this joke funnier by adding wordplay: {state['joke']}\")\n",
    "    return {\"improved_joke\": msg.content}\n",
    "\n",
    "def chilean_joke(state: State):\n",
    "    \"\"\"Third LLM call for final chilean joke.\"\"\"\n",
    "\n",
    "    msg = llm.invoke(f\"Add a surprising twist to this joke: {state['improved_joke']}\")\n",
    "    return {\"final_joke\": msg.content}\n",
    "\n",
    "# Conditional edge function  to check  if the joke  has a punchline\n",
    "def check_punchline(state: State):\n",
    "    \"\"\"Gate function to check if the joke has a punchline.\"\"\"\n",
    "\n",
    "    # Simple check - does  the joke contain \"?\" or \"!\"\n",
    "    if \"?\" in state[\"joke\"] or \"!\" in state[\"joke\"]:\n",
    "        return \"Pass\"\n",
    "    return \"Fail\""
   ],
   "id": "36a43352a5967d2a",
   "outputs": [],
   "execution_count": 153
  },
  {
   "metadata": {
    "ExecuteTime": {
     "end_time": "2025-03-20T13:38:37.836585Z",
     "start_time": "2025-03-20T13:38:37.389669Z"
    }
   },
   "cell_type": "code",
   "source": [
    "# Build workflow\n",
    "workflow = StateGraph(State)\n",
    "\n",
    "# Add Nodes\n",
    "workflow.add_node(\"generate_joke\", generate_joke)\n",
    "workflow.add_node(\"improve_joke\", improve_joke)\n",
    "workflow.add_node(\"chilean_joke\", chilean_joke)\n",
    "\n",
    "# Add Edges to connect nodes\n",
    "workflow.add_edge(START, \"generate_joke\")\n",
    "workflow.add_conditional_edges(\n",
    "    \"generate_joke\", check_punchline, {\"Pass\": \"improve_joke\", \"Fail\": END}\n",
    ")\n",
    "workflow.add_edge(\"improve_joke\", \"chilean_joke\")\n",
    "workflow.add_edge(\"chilean_joke\", END)\n",
    "\n",
    "# Compile\n",
    "chain =  workflow.compile()\n",
    "\n",
    "# Show workflow\n",
    "display(Image(chain.get_graph().draw_mermaid_png()))"
   ],
   "id": "acb1582acf5727f9",
   "outputs": [
    {
     "data": {
      "image/png": "[encoded data removed]",
      "text/plain": [
       "<IPython.core.display.Image object>"
      ]
     },
     "metadata": {},
     "output_type": "display_data"
    }
   ],
   "execution_count": 154
  },
  {
   "metadata": {
    "ExecuteTime": {
     "end_time": "2025-03-20T13:38:41.130120Z",
     "start_time": "2025-03-20T13:38:37.848048Z"
    }
   },
   "cell_type": "code",
   "source": [
    "state = chain.invoke({\"topic\": \"ñuñoinos progres\"})\n",
    "print(\"Inital joke: \")\n",
    "print(state[\"joke\"])\n",
    "print(\"\\n--- --- ---\")\n",
    "if \"improved_joke\" in state:\n",
    "    print(\"Improved joke: \")\n",
    "    print(state[\"improved_joke\"])\n",
    "    print(\"\\n--- --- ---\")\n",
    "\n",
    "    print(\"Final joke: \")\n",
    "    print(state[\"final_joke\"])\n",
    "else :\n",
    "    print(\"Joke failed quality gate - no punchline detetected!\")"
   ],
   "id": "73f6fe0c4ca78709",
   "outputs": [
    {
     "name": "stdout",
     "output_type": "stream",
     "text": [
      "Inital joke: \n",
      "Why did the ñuñoinos progres always carry a map?\n",
      "\n",
      "Because they were always looking for their next \"progress\" point!\n",
      "\n",
      "--- --- ---\n",
      "Improved joke: \n",
      "Why did the ñuñoinos progres always carry a map? \n",
      "\n",
      "Because they couldn't resist making \"proGRASS\" on their journey to the next \"progress\" point!\n",
      "\n",
      "--- --- ---\n",
      "Final joke: \n",
      "Why did the ñuñoinos progres always carry a map? \n",
      "\n",
      "Because they couldn't resist making \"proGRASS\" on their journey to the next \"progress\" point! But little did they know, they were actually following a treasure map that led to a hidden stash of organic kale—even their GPS couldn't handle that level of \"healthy living!\"\n"
     ]
    }
   ],
   "execution_count": 155
  },
  {
   "metadata": {},
   "cell_type": "markdown",
   "source": [
    "# Parallelization\n",
    "![Parallelization](img/parallelization.png \"Parallelization\")\n",
    "\n",
    "- Sub-tasks can be parallelized.\n",
    "  - E.g., when you want multi-perspectives for one task (multi-query for RAG).\n",
    "  - E.g., when independent tasks can be performed w/ different prompts.\n",
    "\n",
    "\n",
    "- Las subtareas pueden paralelizarse.\n",
    "  - Por ejemplo, cuando se desean múltiples perspectivas para una tarea (consulta múltiple para RAG).\n",
    "  - Por ejemplo, cuando las tareas independientes pueden realizarse con diferentes indicaciones (prompts).\n",
    "\n",
    "## Example:\n",
    "_Take a topic, create a Joke, Story and Poem._\n"
   ],
   "id": "d783aad1340aff97"
  },
  {
   "metadata": {
    "ExecuteTime": {
     "end_time": "2025-03-20T13:38:41.148250Z",
     "start_time": "2025-03-20T13:38:41.145784Z"
    }
   },
   "cell_type": "code",
   "source": [
    "# Graph state\n",
    "class State(TypedDict):\n",
    "    topic: str\n",
    "    joke: str\n",
    "    story: str\n",
    "    poem: str\n",
    "    combined_output: str"
   ],
   "id": "75a302f2a280b94f",
   "outputs": [],
   "execution_count": 156
  },
  {
   "metadata": {
    "ExecuteTime": {
     "end_time": "2025-03-20T13:38:41.158008Z",
     "start_time": "2025-03-20T13:38:41.155182Z"
    }
   },
   "cell_type": "code",
   "source": [
    "# Nodes\n",
    "\n",
    "def generate_joke(state: State):\n",
    "    \"\"\"First LLM call to generate a initial joke.\"\"\"\n",
    "\n",
    "    msg = llm.invoke(f\"Write a short joke about {state['topic']}.\")\n",
    "    return {\"joke\": msg.content}\n",
    "\n",
    "def generate_story(state: State):\n",
    "    \"\"\"Second LLM call to generate a story.\"\"\"\n",
    "\n",
    "    msg = llm.invoke(f\"Write a short story about {state['topic']}.\")\n",
    "    return {\"story\": msg.content}\n",
    "\n",
    "def generate_poem(state: State):\n",
    "    \"\"\"Third LLM call to generate a poem.\"\"\"\n",
    "\n",
    "    msg = llm.invoke(f\"Write a short poem about {state['topic']}.\")\n",
    "    return {\"poem\": msg.content}\n",
    "\n",
    "def aggregator(state: State):\n",
    "    \"\"\"Combine the joke, story and peom into a single output.\"\"\"\n",
    "\n",
    "    combined = f\"\"\"This is a combintation of a joke, a story and a poem about {state['topic']}.\n",
    "\n",
    "JOKE: {state['joke']}\n",
    "\n",
    "STORY: {state['story']}\n",
    "\n",
    "POEM: {state['poem']}\"\"\"\n",
    "\n",
    "    return {\"combined_output\": combined}"
   ],
   "id": "e9bc29dcd0474e63",
   "outputs": [],
   "execution_count": 157
  },
  {
   "metadata": {
    "ExecuteTime": {
     "end_time": "2025-03-20T13:38:41.327486Z",
     "start_time": "2025-03-20T13:38:41.163823Z"
    }
   },
   "cell_type": "code",
   "source": [
    "# Build Workflow\n",
    "parallel_builder = StateGraph(State)\n",
    "\n",
    "# Add Nodes\n",
    "parallel_builder.add_node(\"generate_joke\", generate_joke)\n",
    "parallel_builder.add_node(\"generate_story\", generate_story)\n",
    "parallel_builder.add_node(\"generate_poem\", generate_poem)\n",
    "parallel_builder.add_node(\"aggregator\", aggregator)\n",
    "\n",
    "# Add Edges and connect nodes\n",
    "parallel_builder.add_edge(START, \"generate_joke\")\n",
    "parallel_builder.add_edge(START, \"generate_story\")\n",
    "parallel_builder.add_edge(START, \"generate_poem\")\n",
    "parallel_builder.add_edge(\"generate_joke\", \"aggregator\")\n",
    "parallel_builder.add_edge(\"generate_story\", \"aggregator\")\n",
    "parallel_builder.add_edge(\"generate_poem\", \"aggregator\")\n",
    "parallel_builder.add_edge(\"aggregator\", END)\n",
    "\n",
    "parallel_workflow = parallel_builder.compile()\n",
    "\n",
    "# Show workflow\n",
    "display(Image(parallel_workflow.get_graph().draw_mermaid_png()))"
   ],
   "id": "2be20ac9d5a98faf",
   "outputs": [
    {
     "data": {
      "image/png": "[encoded data removed]",
      "text/plain": [
       "<IPython.core.display.Image object>"
      ]
     },
     "metadata": {},
     "output_type": "display_data"
    }
   ],
   "execution_count": 158
  },
  {
   "metadata": {
    "ExecuteTime": {
     "end_time": "2025-03-20T13:39:00.163938Z",
     "start_time": "2025-03-20T13:38:41.336550Z"
    }
   },
   "cell_type": "code",
   "source": [
    "state = parallel_workflow.invoke({\"topic\": \"Amor a las hijas\"})\n",
    "print(state[\"combined_output\"])"
   ],
   "id": "4fd1c037883f112c",
   "outputs": [
    {
     "name": "stdout",
     "output_type": "stream",
     "text": [
      "This is a combintation of a joke, a story and a poem about Amor a las hijas.\n",
      "\n",
      "JOKE: ¿Por qué el amor de un padre por sus hijas no tiene límites? \n",
      "\n",
      "¡Porque siempre llevan en el corazón la \"hija\" de su vida!\n",
      "\n",
      "STORY: **Amor a las Hijas**\n",
      "\n",
      "En un pequeño pueblo cubierto por la bruma de la mañana, vivía Doña Elena, una madre de tres hijas: Valeria, Lucía y Camila. Su hogar se llenaba de risas y sueños, pero también de las dificultades que enfrentaban por ser una familia unida en un mundo que a menudo parecía querer separarlas.\n",
      "\n",
      "Doña Elena era la dueña de un taller de costura, donde con agujas y hilos tejía no solo telas, sino también los recuerdos de su familia. Cada vestido, cada prenda llevaba consigo una historia de amor y sacrificio. Ella creía firmemente que la esencia del amor se encontraba en los pequeños detalles, en las charlas nocturnas, en compartir un café, y en las caricias delicadas que ofrecía a sus hijas cuando el mundo exterior se tornaba difícil.\n",
      "\n",
      "Una tarde, mientras Doña Elena cosía un vestido de gala para Valeria, la mayor de sus hijas, comenzó una conversación sobre el futuro. “¿Qué harás después de la escuela, hija?”, preguntó con curiosidad. Valeria, con sueños de ser diseñadora, miró a su madre con ojos brillantes. “Quiero viajar a la ciudad y estudiar en una gran escuela de moda,” respondió con entusiasmo.\n",
      "\n",
      "Pero Doña Elena sintió una punzada de preocupación. La ciudad era un lugar grande y a menudo impersonal, y ella temía que la distancia pudiera separarlas. “Siempre estaré aquí, mamá, no importa dónde me lleve la vida,” le aseguró Valeria, abrazándola con fuerza.\n",
      "\n",
      "Días después, Lucía se acercó a su madre mientras tejía un abrigo para el invierno. “Mamá, ¿crees que yo también puedo ser artista? Quiero pintar el mundo en colores vibrantes,” dijo con una chispa en los ojos. Doña Elena sonrió, sintiendo el mismo orgullo posesivo que ella había sentido cuando tomó la decisión de ser costurera. “Por supuesto, hija. El talento siempre encuentra un camino,” respondió.\n",
      "\n",
      "Camila, la más pequeña, estaba sentada en el suelo del taller, observando las conversaciones de sus hermanas. Ella aún no sabía qué quería hacer con su vida. “¿Y si no soy buena en nada?” preguntó con un hilo de voz. La madre se agachó y le acarició el cabello. “El amor es ser buena en ser tú misma. No necesitas ser perfecta, solo tienes que intentarlo,” le dijo, infectándole el corazón con la calidez de sus palabras.\n",
      "\n",
      "Con el paso de los años, las hijas de Doña Elena comenzaron a seguir sus propios caminos. Valeria se trasladó a la ciudad, Lucía se inscribió en una escuela de artes, y Camila, aunque más indecisa, exploraba su propio corazón por proyectos que la hacían feliz.\n",
      "\n",
      "Cada vez que había un evento especial o una celebración, las hijas regresaban al hogar. En esos momentos, el taller se llenaba nuevamente de risas y amor. Doña Elena les contaba historias sobre la vida, sobre lo que había aprendido, tejiendo no solo hilos, sino la herencia de amor que les dejó.\n",
      "\n",
      "Un día, decidió organizar un desfile benéfico en el pueblo. Juntas, las tres hijas, ayudaron a su madre a diseñar y confeccionar una colección de vestidos que representaban sus sueños. En la pasarela, Valeria brilló con su elegancia, Lucía llevó la creatividad de sus colores y Camila deslumbró con su originalidad. El pueblo entero se unió, celebrando no solo el arte, sino también el amor que las mantenía unidas.\n",
      "\n",
      "Al final de la noche, bajo las estrellas que iluminaban el cielo oscuro, Doña Elena sintió que todo su sacrificio había valido la pena. Ya fueran costuras, colores o sueños, había enseñado a sus hijas que el verdadero amor se encontraba en cada puntada, en cada elección, y sobre todo, en la unión que les permitía enfrentar el mundo juntas. \n",
      "\n",
      "“Amor a las hijas,” murmuró Elena para sí misma, mientras abrazaba a sus tres tesoros, sabiendo que, sin importar lo que el futuro les trajera, siempre serían parte de su taller, de su hogar.\n",
      "\n",
      "POEM: Amor a las hijas, luz de mi vida,  \n",
      "como flores que brotan en el amanecer,  \n",
      "sus risas son melodías, dulces y queridas,  \n",
      "en el jardín del tiempo, siempre quiero ver.\n",
      "\n",
      "Con manos de cariño, tejo sus sueños,  \n",
      "un abrigo eterno, un refugio sutil,  \n",
      "cada paso que dan, son cetros pequeños,  \n",
      "su valentía y ternura, un mágico perfil.\n",
      "\n",
      "Oh, hijas del alma, estrellas brillantes,  \n",
      "en su andar, un legado que nunca se va,  \n",
      "son mis sueños danzantes, sus corazones vibrantes,  \n",
      "en el amor que les ofrezco, siempre encontrarán paz.\n"
     ]
    }
   ],
   "execution_count": 159
  },
  {
   "metadata": {},
   "cell_type": "markdown",
   "source": [
    "# Routing\n",
    "\n",
    "![Routing](img/routing.png \"routing\")\n",
    "\n",
    "Routing classifies an input and directs it to a specialized follow-up task.\n",
    "- E.g., when routing a question to different retrieval systems.\n",
    "\n",
    "El enrutamiento clasifica una entrada y la dirige a una tarea de seguimiento especializada.\n",
    "- Por ejemplo, cuando se enruta una pregunta a diferentes sistemas de recuperación.\n",
    "\n",
    "Example:\n",
    "- Route an input between joke, story, and poem.\n",
    "\n",
    "\n",
    "\n",
    "\n",
    "\n"
   ],
   "id": "42f1cd5cc04f9594"
  },
  {
   "metadata": {
    "ExecuteTime": {
     "end_time": "2025-03-20T13:39:00.180037Z",
     "start_time": "2025-03-20T13:39:00.175799Z"
    }
   },
   "cell_type": "code",
   "source": [
    "# Schema for structured output to use  as routing logic\n",
    "class Route(BaseModel):\n",
    "    step: Literal[\"joke\", \"story\", \"poem\"] = Field(None, description=\"The next step in the routing process\")\n",
    "\n",
    "# Augment the LLM  with schema  for structured output\n",
    "router = llm.with_structured_output(Route)\n"
   ],
   "id": "9d5cefd82ac08bc0",
   "outputs": [],
   "execution_count": 160
  },
  {
   "metadata": {
    "ExecuteTime": {
     "end_time": "2025-03-20T13:39:00.194261Z",
     "start_time": "2025-03-20T13:39:00.192283Z"
    }
   },
   "cell_type": "code",
   "source": [
    "# State\n",
    "class State(TypedDict):\n",
    "    input: str\n",
    "    decision: str\n",
    "    output: str"
   ],
   "id": "646a21277989fef8",
   "outputs": [],
   "execution_count": 161
  },
  {
   "metadata": {
    "ExecuteTime": {
     "end_time": "2025-03-20T13:39:00.201041Z",
     "start_time": "2025-03-20T13:39:00.197380Z"
    }
   },
   "cell_type": "code",
   "source": [
    "from langchain_core.messages import HumanMessage, SystemMessage\n",
    "\n",
    "# Nodes\n",
    "def generate_story(state: State):\n",
    "    \"\"\"Write the story\"\"\"\n",
    "\n",
    "    print(\"Write the story:\")\n",
    "    result = llm.invoke(state['input'])\n",
    "    return {\"output\": result.content}\n",
    "\n",
    "def generate_poem(state: State):\n",
    "    \"\"\"Write the poem\"\"\"\n",
    "\n",
    "    print(\"Write the poem:\")\n",
    "    result = llm.invoke(state['input'])\n",
    "    return {\"output\": result.content}\n",
    "\n",
    "def generate_joke(state: State):\n",
    "    \"\"\"Write the joke\"\"\"\n",
    "\n",
    "    print(\"Write the joke:\")\n",
    "    result = llm.invoke(state['input'])\n",
    "    return {\"output\": result.content}\n",
    "\n",
    "def llm_call_router(state: State):\n",
    "    \"\"\"Route the input to the appropriate node\"\"\"\n",
    "\n",
    "    # run the augmented LLM with structured output to serve  as routing  logic\n",
    "    decision = router.invoke(\n",
    "        [\n",
    "            SystemMessage(content=\"Route the input story, joke, or poem based  on the user's request\"),\n",
    "            HumanMessage(content=state['input']),\n",
    "        ]\n",
    "    )\n",
    "    return {\"decision\": decision.step}\n",
    "\n",
    "# Conditional edge function  to route for the appropiate node\n",
    "def route_decision(state: State):\n",
    "    \"\"\"Gate function to route the input to the appropriate node\"\"\"\n",
    "    # Return the node name you want to visit next\n",
    "    if state[\"decision\"] == \"joke\":\n",
    "        return \"generate_joke\"\n",
    "    elif state[\"decision\"] == \"story\":\n",
    "        return \"generate_story\"\n",
    "    elif state[\"decision\"] == \"poem\":\n",
    "        return \"generate_poem\"\n"
   ],
   "id": "5f61886bc866ddf3",
   "outputs": [],
   "execution_count": 162
  },
  {
   "metadata": {
    "ExecuteTime": {
     "end_time": "2025-03-20T13:39:00.407239Z",
     "start_time": "2025-03-20T13:39:00.206548Z"
    }
   },
   "cell_type": "code",
   "source": [
    "# Builder workflow\n",
    "router_builder = StateGraph(State)\n",
    "\n",
    "# Node\n",
    "router_builder.add_node(\"generate_story\", generate_story)\n",
    "router_builder.add_node(\"generate_poem\", generate_poem)\n",
    "router_builder.add_node(\"generate_joke\", generate_joke)\n",
    "router_builder.add_node(\"llm_call_router\", llm_call_router)\n",
    "\n",
    "# Add edges to connect nodes\n",
    "router_builder.add_edge(START,\"llm_call_router\")\n",
    "router_builder.add_conditional_edges(\n",
    "    \"llm_call_router\",\n",
    "    route_decision,\n",
    "    {\n",
    "        # Name returned by route_decision: Name of the next node to visit\n",
    "        \"generate_story\": \"generate_story\",\n",
    "        \"generate_poem\": \"generate_poem\",\n",
    "        \"generate_joke\": \"generate_joke\",\n",
    "    }\n",
    ")\n",
    "\n",
    "router_builder.add_edge(\"generate_story\", END)\n",
    "router_builder.add_edge(\"generate_poem\", END)\n",
    "router_builder.add_edge(\"generate_joke\", END)\n",
    "\n",
    "# Compile workflow\n",
    "router_workflow = router_builder.compile()\n",
    "\n",
    "# Show the workflow\n",
    "display(Image(router_workflow.get_graph().draw_mermaid_png()))\n"
   ],
   "id": "ef9c91027ffdc8bf",
   "outputs": [
    {
     "data": {
      "image/png": "[encoded data removed]",
      "text/plain": [
       "<IPython.core.display.Image object>"
      ]
     },
     "metadata": {},
     "output_type": "display_data"
    }
   ],
   "execution_count": 163
  },
  {
   "metadata": {
    "ExecuteTime": {
     "end_time": "2025-03-20T13:39:01.709659Z",
     "start_time": "2025-03-20T13:39:00.415909Z"
    }
   },
   "cell_type": "code",
   "source": [
    "state = router_workflow.invoke({\"input\": \"Write me a joke about a cat.\"})\n",
    "print(state[\"output\"])"
   ],
   "id": "4d96df9407d649a3",
   "outputs": [
    {
     "name": "stdout",
     "output_type": "stream",
     "text": [
      "Write the joke:\n",
      "Why did the cat sit on the computer?\n",
      "\n",
      "Because it wanted to keep an eye on the mouse!\n"
     ]
    }
   ],
   "execution_count": 164
  },
  {
   "metadata": {},
   "cell_type": "markdown",
   "source": [
    "# Orchestrator worker\n",
    "![orchestrator](img/orchestrator_worker.png)\n",
    "\n",
    "Orchestrator breaks down a task and delegates each sub-task to workers.\n",
    "- E.g., planning a report where LLM can determine the number of sections.\n",
    "\n",
    "Example:\n",
    "- Take a topic, plan a report of section, have each worker write a section.\n",
    "\n",
    "- When to use this workflow: This workflow is well-suited for complex tasks where you can’t predict the subtasks needed (in coding, for example, the number of files that need to be changed and the nature of the change in each file likely depend on the task). Whereas it’s topographically similar, the key difference from parallelization is its flexibility—subtasks aren't pre-defined, but determined by the orchestrator based on the specific input.\n",
    "\n",
    "Example where orchestrator-workers is useful:\n",
    "\n",
    "Coding products that make complex changes to multiple files each time.\n",
    "Search tasks that involve gathering and analyzing information from multiple sources for possible relevant information.\n",
    "\n",
    "---\n",
    "\n",
    "El orquestador descompone una tarea y delega cada subtarea a los trabajadores.\n",
    "- Por ejemplo, planificar un informe donde el LLM pueda determinar el número de secciones.\n",
    "\n",
    "Ejemplo:\n",
    "- Tomar un tema, planificar un informe por secciones y hacer que cada trabajador escriba una sección.\n",
    "\n",
    "- Cuándo usar este flujo de trabajo:\n",
    "\n",
    "Este flujo de trabajo es ideal para tareas complejas donde no se pueden predecir las subtareas necesarias (en codificación, por ejemplo, la cantidad de archivos que deben modificarse y la naturaleza del cambio en cada archivo probablemente dependan de la tarea). Si bien es topográficamente similar, la diferencia clave con la paralelización es su flexibilidad: las subtareas no están predefinidas, sino que el orquestador las determina en función de la entrada específica.\n",
    "\n",
    "Ejemplos de utilidad de los trabajadores del orquestador:\n",
    "\n",
    "Productos de codificación que realizan cambios complejos en varios archivos cada vez.\n",
    "Tareas de búsqueda que implican recopilar y analizar información de múltiples fuentes para encontrar posible información relevante.\n",
    "\n",
    "\n"
   ],
   "id": "2e7e15a98c8411b2"
  },
  {
   "metadata": {
    "ExecuteTime": {
     "end_time": "2025-03-20T13:39:01.720548Z",
     "start_time": "2025-03-20T13:39:01.716050Z"
    }
   },
   "cell_type": "code",
   "source": [
    "from typing import Annotated, List\n",
    "import operator\n",
    "\n",
    "\n",
    "# Schema for structured output to use in planning\n",
    "class Section(BaseModel):\n",
    "    name: str = Field(\n",
    "        description=\"Name for this section of the report.\",\n",
    "    )\n",
    "    description: str = Field(\n",
    "        description=\"Brief overview of the main topics and concepts to be covered in this section.\",\n",
    "    )\n",
    "\n",
    "\n",
    "class Sections(BaseModel):\n",
    "    sections: List[Section] = Field(\n",
    "        description=\"Sections of the report.\",\n",
    "    )\n",
    "\n",
    "\n",
    "# Augment the LLM with schema for structured output\n",
    "planner = llm.with_structured_output(Sections)"
   ],
   "id": "a70021552cdbd9ed",
   "outputs": [],
   "execution_count": 165
  },
  {
   "metadata": {
    "ExecuteTime": {
     "end_time": "2025-03-20T13:39:01.731684Z",
     "start_time": "2025-03-20T13:39:01.727840Z"
    }
   },
   "cell_type": "code",
   "source": [
    "from langgraph.constants import Send\n",
    "\n",
    "\n",
    "# Graph state\n",
    "class State(TypedDict):\n",
    "    topic: str  # Report topic\n",
    "    sections: list[Section]  # List of report sections\n",
    "    completed_sections: Annotated[\n",
    "        list, operator.add\n",
    "    ]  # All workers write to this key in parallel\n",
    "    final_report: str  # Final report\n",
    "\n",
    "\n",
    "# Worker state\n",
    "class WorkerState(TypedDict):\n",
    "    section: Section\n",
    "    completed_sections: Annotated[list, operator.add]\n",
    "\n",
    "\n",
    "# Nodes\n",
    "def orchestrator(state: State):\n",
    "    \"\"\"Orchestrator that generates a plan for the report\"\"\"\n",
    "\n",
    "    # Generate queries\n",
    "    report_sections = planner.invoke(\n",
    "        [\n",
    "            SystemMessage(content=\"Generate a plan for the report.\"),\n",
    "            HumanMessage(content=f\"Here is the report topic: {state['topic']}\"),\n",
    "        ]\n",
    "    )\n",
    "\n",
    "    # Imprimir todas las secciones generadas\n",
    "    print(\"\\nSecciones generadas para el informe:\")\n",
    "    for idx, section in enumerate(report_sections.sections):\n",
    "        print(f\"Sección {idx + 1}:\")\n",
    "        print(f\" - Título: {section.name}\")\n",
    "        print(f\" - Descripción: {section.description}\")\n",
    "\n",
    "    return {\"sections\": report_sections.sections}\n",
    "\n",
    "\n",
    "def llm_call(state: WorkerState):\n",
    "    \"\"\"Worker writes a section of the report\"\"\"\n",
    "\n",
    "    # Generate section\n",
    "    section = llm.invoke(\n",
    "        [\n",
    "            SystemMessage(\n",
    "                content=\"Write a report section following the provided name and description. Include no preamble for each section. Use markdown formatting.\"\n",
    "            ),\n",
    "            HumanMessage(\n",
    "                content=f\"Here is the section name: {state['section'].name} and description: {state['section'].description}\"\n",
    "            ),\n",
    "        ]\n",
    "    )\n",
    "\n",
    "    # Write the updated section to completed sections\n",
    "    return {\"completed_sections\": [section.content]}\n",
    "\n",
    "\n",
    "def synthesizer(state: State):\n",
    "    \"\"\"Synthesize full report from sections\"\"\"\n",
    "\n",
    "    # List of completed sections\n",
    "    completed_sections = state[\"completed_sections\"]\n",
    "\n",
    "    # Format completed section to str to use as context for final sections\n",
    "    completed_report_sections = \"\\n\\n---\\n\\n\".join(completed_sections)\n",
    "\n",
    "    return {\"final_report\": completed_report_sections}\n",
    "\n",
    "\n",
    "# Conditional edge function to create llm_call workers that each write a section of the report\n",
    "def assign_workers(state: State):\n",
    "    \"\"\"Assign a worker to each section in the plan\"\"\"\n",
    "\n",
    "    # Kick off section writing in parallel via Send() API\n",
    "    return [Send(\"llm_call\", {\"section\": s}) for s in state[\"sections\"]]\n",
    "\n",
    "\n"
   ],
   "id": "8b014447dd6bd52c",
   "outputs": [],
   "execution_count": 166
  },
  {
   "metadata": {
    "ExecuteTime": {
     "end_time": "2025-03-20T13:39:01.987594Z",
     "start_time": "2025-03-20T13:39:01.739567Z"
    }
   },
   "cell_type": "code",
   "source": [
    "from langgraph.constants import Send\n",
    "\n",
    "# Build workflow\n",
    "orchestrator_worker_builder = StateGraph(State)\n",
    "\n",
    "# Add the nodes\n",
    "orchestrator_worker_builder.add_node(\"orchestrator\", orchestrator)\n",
    "orchestrator_worker_builder.add_node(\"llm_call\", llm_call)\n",
    "orchestrator_worker_builder.add_node(\"synthesizer\", synthesizer)\n",
    "\n",
    "# Add edges to connect nodes\n",
    "orchestrator_worker_builder.add_edge(START, \"orchestrator\")\n",
    "orchestrator_worker_builder.add_conditional_edges(\n",
    "    \"orchestrator\", assign_workers, [\"llm_call\"]\n",
    ")\n",
    "orchestrator_worker_builder.add_edge(\"llm_call\", \"synthesizer\")\n",
    "orchestrator_worker_builder.add_edge(\"synthesizer\", END)\n",
    "\n",
    "# Compile the workflow\n",
    "orchestrator_worker = orchestrator_worker_builder.compile()\n",
    "\n",
    "# Show the workflow\n",
    "display(Image(orchestrator_worker.get_graph().draw_mermaid_png()))\n",
    "\n"
   ],
   "id": "d4f6a562bb16ef76",
   "outputs": [
    {
     "data": {
      "image/png": "[encoded data removed]",
      "text/plain": [
       "<IPython.core.display.Image object>"
      ]
     },
     "metadata": {},
     "output_type": "display_data"
    }
   ],
   "execution_count": 167
  },
  {
   "metadata": {
    "ExecuteTime": {
     "end_time": "2025-03-20T13:39:25.766729Z",
     "start_time": "2025-03-20T13:39:01.994293Z"
    }
   },
   "cell_type": "code",
   "source": [
    "# Invoke\n",
    "state = orchestrator_worker.invoke({\"topic\": \"Metodología para disponibilizar en producción herramientas de IA con Langgraph\"})"
   ],
   "id": "c389413940892f03",
   "outputs": [
    {
     "name": "stdout",
     "output_type": "stream",
     "text": [
      "\n",
      "Secciones generadas para el informe:\n",
      "Sección 1:\n",
      " - Título: Introducción\n",
      " - Descripción: Presentación del tema de la metodología para implementar herramientas de IA utilizando Langgraph, incluyendo el objetivo del informe y la relevancia del tema.\n",
      "Sección 2:\n",
      " - Título: Marco Teórico\n",
      " - Descripción: Definición de conceptos clave como la inteligencia artificial, Langgraph, y tecnologías relacionadas, además de una revisión de la literatura sobre metodologías de implementación.\n",
      "Sección 3:\n",
      " - Título: Metodología Propuesta\n",
      " - Descripción: Descripción detallada de los pasos y procesos necesarios para implementar herramientas de IA en producción usando Langgraph, incluyendo la planificación, desarrollo, prueba y despliegue.\n",
      "Sección 4:\n",
      " - Título: Casos de Uso\n",
      " - Descripción: Ejemplos prácticos de cómo se puede aplicar la metodología en diferentes escenarios y sectores, destacando resultados y beneficios esperados.\n",
      "Sección 5:\n",
      " - Título: Desafíos y Consideraciones\n",
      " - Descripción: Análisis de los principales desafíos que pueden surgir durante la implementación, así como consideraciones éticas y técnicas.\n",
      "Sección 6:\n",
      " - Título: Conclusiones y Recomendaciones\n",
      " - Descripción: Resumen de los hallazgos y recomendaciones para la implementación efectiva de herramientas de IA con Langgraph.\n",
      "Sección 7:\n",
      " - Título: Referencias\n",
      " - Descripción: Listado de todas las fuentes consultadas para la elaboración del informe, incluyendo artículos, libros y recursos en línea sobre Langgraph y metodologías de implementación.\n"
     ]
    }
   ],
   "execution_count": 168
  },
  {
   "metadata": {},
   "cell_type": "markdown",
   "source": "> descometar para ver el reporte en markdown\n",
   "id": "7597e7bb5a45e2e6"
  },
  {
   "metadata": {
    "ExecuteTime": {
     "end_time": "2025-03-20T13:39:25.780557Z",
     "start_time": "2025-03-20T13:39:25.778413Z"
    }
   },
   "cell_type": "code",
   "source": [
    "from IPython.display import Markdown\n",
    "# Markdown(state[\"final_report\"]) # Descomentar para ver el markdown generado.\n"
   ],
   "id": "9431d5ebe884ca2d",
   "outputs": [],
   "execution_count": 169
  },
  {
   "metadata": {
    "ExecuteTime": {
     "end_time": "2025-03-20T13:39:25.791389Z",
     "start_time": "2025-03-20T13:39:25.788587Z"
    }
   },
   "cell_type": "code",
   "source": [
    "import os\n",
    "\n",
    "# Crear carpeta 'docs' si no existe\n",
    "os.makedirs(\"docs\", exist_ok=True)\n",
    "\n",
    "# Guardar el contenido en un archivo .md\n",
    "with open(\"docs/reporte.md\", \"w\") as file:\n",
    "    file.write(state[\"final_report\"])"
   ],
   "id": "1e908f278ea75662",
   "outputs": [],
   "execution_count": 170
  },
  {
   "metadata": {},
   "cell_type": "markdown",
   "source": [
    "# Evaluator - Optimizer\n",
    "\n",
    "![evaluator](img/evaluator-optimizer.png)\n",
    "\n",
    "### **Cuándo usar este flujo de trabajo:**\n",
    "Este flujo de trabajo es particularmente efectivo cuando tenemos criterios de evaluación claros y cuando el refinamiento iterativo proporciona un valor medible. Las dos señales de un buen ajuste son, primero, que las respuestas de los LLM pueden mejorarse de manera demostrable cuando un humano articula sus comentarios; y segundo, que el LLM puede proporcionar dichos comentarios. Esto es análogo al proceso de escritura iterativo por el que pasaría un escritor humano al producir un documento pulido.\n",
    "\n",
    "### **Ejemplos donde el evaluador-optimizador es útil:**\n",
    "\n",
    "- Traducción literaria donde hay matices que el traductor LLM podría no captar inicialmente, pero donde un evaluador LLM puede proporcionar críticas útiles.\n",
    "- Tareas de búsqueda complejas que requieren múltiples rondas de búsqueda y análisis para recopilar información completa, donde el evaluador decide si se justifican más búsquedas.\n",
    "\n",
    "---\n",
    "\n",
    "## **Agentes**\n",
    "Los agentes están emergiendo en producción a medida que los LLM maduran en capacidades clave: comprender entradas complejas, participar en razonamiento y planificación, usar herramientas de manera confiable y recuperarse de errores.\n",
    "\n",
    "Los agentes comienzan su trabajo con un comando o con una discusión interactiva con el usuario humano. Una vez que la tarea está clara, los agentes planifican y operan de manera independiente, volviendo potencialmente al humano para obtener más información o juicio. Durante la ejecución, es crucial que los agentes obtengan la \"verdad fundamental\" del entorno en cada paso (como resultados de herramientas o ejecución de código) para evaluar su progreso.\n",
    "\n",
    "Los agentes pueden pausar para recibir comentarios humanos en puntos de control o cuando encuentren bloqueos. La tarea a menudo termina al completarse, pero también es común incluir condiciones de detención (como un número máximo de iteraciones) para mantener el control.\n",
    "\n",
    "Los agentes pueden manejar tareas sofisticadas, pero su implementación suele ser sencilla. Normalmente, son solo LLM utilizando herramientas basadas en comentarios ambientales en un ciclo. Por lo tanto, es crucial diseñar los conjuntos de herramientas y su documentación de manera clara y reflexiva. Ampliamos las mejores prácticas para el desarrollo de herramientas en el Apéndice 2 (\"Ingeniería de prompts para tus herramientas\").\n",
    "\n",
    "![evaluator](img/evaluator-optimizer-stop.png)\n"
   ],
   "id": "1f1b616dec781134"
  },
  {
   "metadata": {
    "ExecuteTime": {
     "end_time": "2025-03-20T13:39:25.800636Z",
     "start_time": "2025-03-20T13:39:25.797556Z"
    }
   },
   "cell_type": "code",
   "source": [
    "# Schema for structured output to use in evaluation\n",
    "class Feedback(BaseModel):\n",
    "    \"\"\"Feedback from the LLM\"\"\"\n",
    "    grade: Literal[\"good\", \"bad\"] = Field(\n",
    "        description=\"Grade of the feedback\"\n",
    "    )\n",
    "    feedback: str = Field(\n",
    "        description=\"Feedback from the LLM. if the grade is good, the feedback is empty.\"\n",
    "    )\n",
    "\n",
    "evaluator = llm.with_structured_output(Feedback)"
   ],
   "id": "e01476f239cc6e91",
   "outputs": [],
   "execution_count": 171
  },
  {
   "metadata": {
    "ExecuteTime": {
     "end_time": "2025-03-20T13:39:25.808020Z",
     "start_time": "2025-03-20T13:39:25.806274Z"
    }
   },
   "cell_type": "code",
   "source": [
    "# Graph\n",
    "class State(TypedDict):\n",
    "    texto: str\n",
    "    topic: str\n",
    "    feedback: str\n",
    "    good_or_bad: str"
   ],
   "id": "46a018bf6a560f59",
   "outputs": [],
   "execution_count": 172
  },
  {
   "metadata": {
    "ExecuteTime": {
     "end_time": "2025-03-20T13:39:25.815879Z",
     "start_time": "2025-03-20T13:39:25.813338Z"
    }
   },
   "cell_type": "code",
   "source": [
    "# Nodes\n",
    "def llm_call_generator(state: State):\n",
    "    \"\"\"\n",
    "    Generates a text about a given topic using an LLM (Language Learning Model),\n",
    "    optionally considering additional feedback provided in the state.\n",
    "    \"\"\"\n",
    "    if state.get(\"feedback\"):\n",
    "        msg = llm.invoke(\n",
    "            f\"Write a text about: {state['topic']}. but take into account the feedback: {state['feedback']}\"\n",
    "        )\n",
    "    else:\n",
    "        msg = llm.invoke(f\"Write a text about: {state['topic']}.\")\n",
    "    return {\"texto\": msg.content}\n",
    "\n",
    "def llm_call_evaluator(state: State):\n",
    "    \"\"\"LLM evaluate the texto, if correct or not\"\"\"\n",
    "\n",
    "    grade = evaluator.invoke(f\"Grade the texto: {state['texto']}\")\n",
    "    return {\"good_or_bad\": grade.grade, \"feedback\": grade.feedback}\n",
    "\n",
    "# Conditional edge function to route back to text generator or end based upon feedback from the evaluator\n",
    "def route_text(state:State):\n",
    "    \"\"\"Route back to text generator or end based upon feedback from the evaluator\"\"\"\n",
    "\n",
    "    if state[\"good_or_bad\"] == \"good\":\n",
    "        return \"Accepted\"\n",
    "    elif state[\"good_or_bad\"] == \"bad\":\n",
    "        return \"Rejected + Feedback\"\n"
   ],
   "id": "2d0f34aa25cc5230",
   "outputs": [],
   "execution_count": 173
  },
  {
   "metadata": {
    "ExecuteTime": {
     "end_time": "2025-03-20T13:39:25.985724Z",
     "start_time": "2025-03-20T13:39:25.820748Z"
    }
   },
   "cell_type": "code",
   "source": [
    "# Workflow\n",
    "optimizer_builder = StateGraph(State)\n",
    "\n",
    "# Add Nodes\n",
    "optimizer_builder.add_node(\"llm_call_generator\", llm_call_generator)\n",
    "optimizer_builder.add_node(\"llm_call_evaluator\", llm_call_evaluator)\n",
    "\n",
    "\n",
    "# Add Edges\n",
    "optimizer_builder.add_edge(START, \"llm_call_generator\")\n",
    "optimizer_builder.add_edge(\"llm_call_generator\", \"llm_call_evaluator\")\n",
    "optimizer_builder.add_conditional_edges(\n",
    "    \"llm_call_evaluator\",\n",
    "    route_text,\n",
    "    {  # Name returned by route_text : Name de the next node to visit\n",
    "        \"Accepted\": END,\n",
    "        \"Rejected + Feedback\": \"llm_call_generator\"\n",
    "    },\n",
    ")\n",
    "\n",
    "# Compile the workflow\n",
    "optimizer_workflow = optimizer_builder.compile()\n",
    "\n",
    "# Show the workflow\n",
    "display(Image(optimizer_workflow.get_graph().draw_mermaid_png()))\n",
    "\n"
   ],
   "id": "b7f62e4c0b1d7a81",
   "outputs": [
    {
     "data": {
      "image/png": "[encoded data removed]",
      "text/plain": [
       "<IPython.core.display.Image object>"
      ]
     },
     "metadata": {},
     "output_type": "display_data"
    }
   ],
   "execution_count": 174
  },
  {
   "metadata": {
    "ExecuteTime": {
     "end_time": "2025-03-20T13:39:42.515646Z",
     "start_time": "2025-03-20T13:39:25.991902Z"
    }
   },
   "cell_type": "code",
   "source": [
    "# Invoke\n",
    "state = optimizer_workflow.invoke({\"topic\": \"Generación propuesta de valor de Agentes Conversacionales usando langgraph.\"})\n",
    "print(state['texto'])"
   ],
   "id": "30362dfab9c2dcdf",
   "outputs": [
    {
     "name": "stdout",
     "output_type": "stream",
     "text": [
      "**Generación de Propuesta de Valor de Agentes Conversacionales Usando LangGraph**\n",
      "\n",
      "En la actualidad, los agentes conversacionales se han convertido en herramientas esenciales para la interacción entre empresas y clientes. Con el avance de la inteligencia artificial y el procesamiento del lenguaje natural, estos sistemas están mejorando su capacidad para comprender y responder a las consultas de los usuarios de manera más efectiva. LangGraph es una innovadora plataforma que permite a los desarrolladores y empresas crear agentes conversacionales personalizados, optimizando la generación de propuestas de valor que resuenen con las necesidades específicas de sus usuarios.\n",
      "\n",
      "### ¿Qué es LangGraph?\n",
      "\n",
      "LangGraph es una herramienta de desarrollo que integra varias tecnologías de procesamiento de lenguaje natural (PLN) y aprendizaje automático para ayudar a las empresas a diseñar y desplegar agentes conversacionales de alta calidad. La plataforma ofrece una interfaz intuitiva para crear flujos de conversación, así como herramientas de análisis que permiten entender mejor cómo interactúan los usuarios con el sistema.\n",
      "\n",
      "### Generación de Propuesta de Valor\n",
      "\n",
      "La propuesta de valor de un agente conversacional se refiere a la manera en que este puede resolver problemas específicos de los usuarios, mejorar la eficiencia operativa y, en última instancia, incrementar la satisfacción del cliente. LangGraph facilita este proceso a través de varias características clave:\n",
      "\n",
      "1. **Personalización Avanzada**: Con LangGraph, las empresas pueden ajustar sus agentes conversacionales para reflejar el tono y estilo de comunicación deseado, así como adaptar las respuestas y flujos de conversación según el perfil del usuario. Esto permite ofrecer una experiencia más relevante y atractiva.\n",
      "\n",
      "2. **Análisis de Interacciones**: La plataforma proporciona herramientas para analizar las interacciones pasadas, identificando patrones y áreas de mejora. Esta retroalimentación continua es fundamental para ajustar la propuesta de valor, asegurando que el agente evolucione con las expectativas y necesidades del usuario.\n",
      "\n",
      "3. **Integración con API**: LangGraph facilita la integración con otras plataformas y servicios, permitiendo a los agentes acceder a datos en tiempo real y ofrecer respuestas precisas basadas en información actual. Esto es crucial para empresas que operan en sectores donde la inmediatez y precisión de la información son esenciales.\n",
      "\n",
      "4. **Mejora Continua**: A través de metodologías de aprendizaje automático, los agentes conversacionales pueden aprender de cada interacción, mejorando su capacidad para entender y anticipar las necesidades del usuario con el tiempo. Esto permite una evolución constante de la propuesta de valor, manteniéndola siempre alineada con el mercado.\n",
      "\n",
      "5. **Escalabilidad**: LangGraph permite la creación de agentes que pueden manejar un número creciente de interacciones a medida que la empresa crece, asegurando que la calidad del servicio no se vea comprometida. Esta capacidad de escalar es fundamental para muchas empresas que buscan expandir su presencia en mercados competitivos.\n",
      "\n",
      "### Conclusión\n",
      "\n",
      "La generación de propuestas de valor efectivas a través de agentes conversacionales es un desafío que puede ser superado con las herramientas adecuadas. LangGraph emerge como una solución integral, potenciando la capacidad de las empresas para diseñar agentes conversacionales que no solo respondan preguntas, sino que también creen experiencias significativas y memorables. Al poner el foco en la personalización, el análisis de datos y la mejora continua, LangGraph permite a las empresas ofrecer verdadero valor a sus usuarios y beneficiarse de interacciones más eficientes y efectivas. En un mundo donde la atención del cliente es crucial, esta propuesta de valor es más relevante que nunca.\n"
     ]
    }
   ],
   "execution_count": 175
  },
  {
   "metadata": {
    "ExecuteTime": {
     "end_time": "2025-03-20T13:39:42.581032Z",
     "start_time": "2025-03-20T13:39:42.578165Z"
    }
   },
   "cell_type": "code",
   "source": [
    "from IPython.display import Markdown\n",
    "Markdown(state[\"texto\"]) # Descomentar para ver el markdown generado."
   ],
   "id": "e2d24c0d478ff9fb",
   "outputs": [
    {
     "data": {
      "text/plain": [
       "<IPython.core.display.Markdown object>"
      ],
      "text/markdown": "**Generación de Propuesta de Valor de Agentes Conversacionales Usando LangGraph**\n\nEn la actualidad, los agentes conversacionales se han convertido en herramientas esenciales para la interacción entre empresas y clientes. Con el avance de la inteligencia artificial y el procesamiento del lenguaje natural, estos sistemas están mejorando su capacidad para comprender y responder a las consultas de los usuarios de manera más efectiva. LangGraph es una innovadora plataforma que permite a los desarrolladores y empresas crear agentes conversacionales personalizados, optimizando la generación de propuestas de valor que resuenen con las necesidades específicas de sus usuarios.\n\n### ¿Qué es LangGraph?\n\nLangGraph es una herramienta de desarrollo que integra varias tecnologías de procesamiento de lenguaje natural (PLN) y aprendizaje automático para ayudar a las empresas a diseñar y desplegar agentes conversacionales de alta calidad. La plataforma ofrece una interfaz intuitiva para crear flujos de conversación, así como herramientas de análisis que permiten entender mejor cómo interactúan los usuarios con el sistema.\n\n### Generación de Propuesta de Valor\n\nLa propuesta de valor de un agente conversacional se refiere a la manera en que este puede resolver problemas específicos de los usuarios, mejorar la eficiencia operativa y, en última instancia, incrementar la satisfacción del cliente. LangGraph facilita este proceso a través de varias características clave:\n\n1. **Personalización Avanzada**: Con LangGraph, las empresas pueden ajustar sus agentes conversacionales para reflejar el tono y estilo de comunicación deseado, así como adaptar las respuestas y flujos de conversación según el perfil del usuario. Esto permite ofrecer una experiencia más relevante y atractiva.\n\n2. **Análisis de Interacciones**: La plataforma proporciona herramientas para analizar las interacciones pasadas, identificando patrones y áreas de mejora. Esta retroalimentación continua es fundamental para ajustar la propuesta de valor, asegurando que el agente evolucione con las expectativas y necesidades del usuario.\n\n3. **Integración con API**: LangGraph facilita la integración con otras plataformas y servicios, permitiendo a los agentes acceder a datos en tiempo real y ofrecer respuestas precisas basadas en información actual. Esto es crucial para empresas que operan en sectores donde la inmediatez y precisión de la información son esenciales.\n\n4. **Mejora Continua**: A través de metodologías de aprendizaje automático, los agentes conversacionales pueden aprender de cada interacción, mejorando su capacidad para entender y anticipar las necesidades del usuario con el tiempo. Esto permite una evolución constante de la propuesta de valor, manteniéndola siempre alineada con el mercado.\n\n5. **Escalabilidad**: LangGraph permite la creación de agentes que pueden manejar un número creciente de interacciones a medida que la empresa crece, asegurando que la calidad del servicio no se vea comprometida. Esta capacidad de escalar es fundamental para muchas empresas que buscan expandir su presencia en mercados competitivos.\n\n### Conclusión\n\nLa generación de propuestas de valor efectivas a través de agentes conversacionales es un desafío que puede ser superado con las herramientas adecuadas. LangGraph emerge como una solución integral, potenciando la capacidad de las empresas para diseñar agentes conversacionales que no solo respondan preguntas, sino que también creen experiencias significativas y memorables. Al poner el foco en la personalización, el análisis de datos y la mejora continua, LangGraph permite a las empresas ofrecer verdadero valor a sus usuarios y beneficiarse de interacciones más eficientes y efectivas. En un mundo donde la atención del cliente es crucial, esta propuesta de valor es más relevante que nunca."
     },
     "execution_count": 176,
     "metadata": {},
     "output_type": "execute_result"
    }
   ],
   "execution_count": 176
  },
  {
   "metadata": {
    "ExecuteTime": {
     "end_time": "2025-03-20T13:39:42.613475Z",
     "start_time": "2025-03-20T13:39:42.611111Z"
    }
   },
   "cell_type": "code",
   "source": "Markdown(state[\"feedback\"])",
   "id": "bc6b3d31f691419",
   "outputs": [
    {
     "data": {
      "text/plain": [
       "<IPython.core.display.Markdown object>"
      ],
      "text/markdown": ""
     },
     "execution_count": 177,
     "metadata": {},
     "output_type": "execute_result"
    }
   ],
   "execution_count": 177
  },
  {
   "metadata": {
    "ExecuteTime": {
     "end_time": "2025-03-20T13:39:56.139663Z",
     "start_time": "2025-03-20T13:39:56.136686Z"
    }
   },
   "cell_type": "code",
   "source": "state",
   "id": "c947ee0e8f90758a",
   "outputs": [
    {
     "data": {
      "text/plain": [
       "{'texto': '**Generación de Propuesta de Valor de Agentes Conversacionales Usando LangGraph**\\n\\nEn la actualidad, los agentes conversacionales se han convertido en herramientas esenciales para la interacción entre empresas y clientes. Con el avance de la inteligencia artificial y el procesamiento del lenguaje natural, estos sistemas están mejorando su capacidad para comprender y responder a las consultas de los usuarios de manera más efectiva. LangGraph es una innovadora plataforma que permite a los desarrolladores y empresas crear agentes conversacionales personalizados, optimizando la generación de propuestas de valor que resuenen con las necesidades específicas de sus usuarios.\\n\\n### ¿Qué es LangGraph?\\n\\nLangGraph es una herramienta de desarrollo que integra varias tecnologías de procesamiento de lenguaje natural (PLN) y aprendizaje automático para ayudar a las empresas a diseñar y desplegar agentes conversacionales de alta calidad. La plataforma ofrece una interfaz intuitiva para crear flujos de conversación, así como herramientas de análisis que permiten entender mejor cómo interactúan los usuarios con el sistema.\\n\\n### Generación de Propuesta de Valor\\n\\nLa propuesta de valor de un agente conversacional se refiere a la manera en que este puede resolver problemas específicos de los usuarios, mejorar la eficiencia operativa y, en última instancia, incrementar la satisfacción del cliente. LangGraph facilita este proceso a través de varias características clave:\\n\\n1. **Personalización Avanzada**: Con LangGraph, las empresas pueden ajustar sus agentes conversacionales para reflejar el tono y estilo de comunicación deseado, así como adaptar las respuestas y flujos de conversación según el perfil del usuario. Esto permite ofrecer una experiencia más relevante y atractiva.\\n\\n2. **Análisis de Interacciones**: La plataforma proporciona herramientas para analizar las interacciones pasadas, identificando patrones y áreas de mejora. Esta retroalimentación continua es fundamental para ajustar la propuesta de valor, asegurando que el agente evolucione con las expectativas y necesidades del usuario.\\n\\n3. **Integración con API**: LangGraph facilita la integración con otras plataformas y servicios, permitiendo a los agentes acceder a datos en tiempo real y ofrecer respuestas precisas basadas en información actual. Esto es crucial para empresas que operan en sectores donde la inmediatez y precisión de la información son esenciales.\\n\\n4. **Mejora Continua**: A través de metodologías de aprendizaje automático, los agentes conversacionales pueden aprender de cada interacción, mejorando su capacidad para entender y anticipar las necesidades del usuario con el tiempo. Esto permite una evolución constante de la propuesta de valor, manteniéndola siempre alineada con el mercado.\\n\\n5. **Escalabilidad**: LangGraph permite la creación de agentes que pueden manejar un número creciente de interacciones a medida que la empresa crece, asegurando que la calidad del servicio no se vea comprometida. Esta capacidad de escalar es fundamental para muchas empresas que buscan expandir su presencia en mercados competitivos.\\n\\n### Conclusión\\n\\nLa generación de propuestas de valor efectivas a través de agentes conversacionales es un desafío que puede ser superado con las herramientas adecuadas. LangGraph emerge como una solución integral, potenciando la capacidad de las empresas para diseñar agentes conversacionales que no solo respondan preguntas, sino que también creen experiencias significativas y memorables. Al poner el foco en la personalización, el análisis de datos y la mejora continua, LangGraph permite a las empresas ofrecer verdadero valor a sus usuarios y beneficiarse de interacciones más eficientes y efectivas. En un mundo donde la atención del cliente es crucial, esta propuesta de valor es más relevante que nunca.',\n",
       " 'topic': 'Generación propuesta de valor de Agentes Conversacionales usando langgraph.',\n",
       " 'feedback': '',\n",
       " 'good_or_bad': 'good'}"
      ]
     },
     "execution_count": 178,
     "metadata": {},
     "output_type": "execute_result"
    }
   ],
   "execution_count": 178
  },
  {
   "metadata": {},
   "cell_type": "code",
   "outputs": [],
   "execution_count": null,
   "source": "",
   "id": "bf1c4865c13831a"
  }
 ],
 "metadata": {
  "kernelspec": {
   "display_name": "Python 3",
   "language": "python",
   "name": "python3"
  },
  "language_info": {
   "codemirror_mode": {
    "name": "ipython",
    "version": 2
   },
   "file_extension": ".py",
   "mimetype": "text/x-python",
   "name": "python",
   "nbconvert_exporter": "python",
   "pygments_lexer": "ipython2",
   "version": "2.7.6"
  }
 },
 "nbformat": 4,
 "nbformat_minor": 5
}
