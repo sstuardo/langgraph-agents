{
 "cells": [
  {
   "metadata": {},
   "cell_type": "markdown",
   "source": [
    "## LangChain:\n",
    "\n",
    "LangChain utiliza una estructura de flujo de trabajo basada en código, lo que significa que los flujos de trabajo se escriben y gestionan a través de código en Python. Este enfoque es sencillo para los desarrolladores familiarizados con la programación, ya que les permite definir el flujo mediante scripts sin necesidad de herramientas adicionales.\n",
    "El diseño modular de LangChain permite a los usuarios vincular diferentes tareas a través de scripts y funciones personalizadas, lo que brinda flexibilidad, pero puede requerir código más complejo para flujos de trabajo intrincados.\n",
    "\n",
    "## LangGraph:\n",
    "\n",
    "LangGraph, por otro lado, se estructura en torno a un modelo basado en gráficos o declarativo que enfatiza la representación visual. Los usuarios pueden crear y gestionar flujos de trabajo a través de una interfaz gráfica, lo que lo hace más accesible para aquellos que pueden no tener una experiencia amplia en programación.\n",
    "Este enfoque visual ayuda a comprender las dependencias complejas, facilitando el seguimiento y la gestión de las interacciones de tareas dentro de un flujo de trabajo complejo.m"
   ],
   "id": "9cf77c84ac7616f8"
  },
  {
   "metadata": {
    "ExecuteTime": {
     "end_time": "2025-03-12T16:31:11.272439Z",
     "start_time": "2025-03-12T16:31:11.268799Z"
    }
   },
   "cell_type": "code",
   "source": [
    "from num2words import num2words\n",
    "\n",
    "def multiply(a: int, b: int) -> int:\n",
    "    \"\"\"Multiply a and b.\n",
    "\n",
    "    Args:\n",
    "        a: first int\n",
    "        b: second int\n",
    "    \"\"\"\n",
    "    return a * b\n",
    "\n",
    "\n",
    "# This will be a tool\n",
    "def add(a: int, b: int) -> int:\n",
    "    \"\"\"Adds a and b.\n",
    "\n",
    "    Args:\n",
    "        a: first int\n",
    "        b: second int\n",
    "    \"\"\"\n",
    "    return a + b\n",
    "\n",
    "\n",
    "def divide(a: int, b: int) -> float:\n",
    "    \"\"\"Divide a and b.\n",
    "\n",
    "    Args:\n",
    "        a: first int\n",
    "        b: second int\n",
    "    \"\"\"\n",
    "    return a / b\n",
    "\n",
    "def int_to_text(a: int) -> str:\n",
    "    \"\"\"Convert int to text in words.\n",
    "\n",
    "    Args:\n",
    "        a: int\n",
    "    \"\"\"\n",
    "    return num2words(a)"
   ],
   "id": "fadca80894ccb62b",
   "outputs": [],
   "execution_count": 70
  },
  {
   "metadata": {
    "ExecuteTime": {
     "end_time": "2025-03-12T16:31:11.302574Z",
     "start_time": "2025-03-12T16:31:11.282483Z"
    }
   },
   "cell_type": "code",
   "source": [
    "import os\n",
    "from langchain_openai import ChatOpenAI\n",
    "from dotenv import load_dotenv\n",
    "\n",
    "# Cargar las variables del archivo .env\n",
    "load_dotenv()\n",
    "\n",
    "# Leer la clave API desde el archivo .env\n",
    "api_key = os.getenv(\"OPENAI_API_KEY\")\n",
    "\n",
    "# Configurar el modelo de OpenAI\n",
    "model = ChatOpenAI(model=\"gpt-4o-mini\", api_key=api_key)\n",
    "\n",
    "# Usar el modelo con herramientas\n",
    "tools = [add, multiply, divide, int_to_text]\n",
    "llm_with_tools = model.bind_tools(tools)\n"
   ],
   "id": "935cc540a67fd771",
   "outputs": [],
   "execution_count": 71
  },
  {
   "metadata": {
    "ExecuteTime": {
     "end_time": "2025-03-12T16:31:11.310743Z",
     "start_time": "2025-03-12T16:31:11.308600Z"
    }
   },
   "cell_type": "code",
   "source": [
    "from langgraph.graph import MessagesState\n",
    "from langchain_core.messages import AIMessage, HumanMessage, SystemMessage\n",
    "\n",
    "# System message\n",
    "sys_msg = SystemMessage(content=\"You are a helpful assistant tasked with performing arithemetic on a set  if inputs.\")\n",
    "\n",
    "# Node\n",
    "def assistant(state: MessagesState):\n",
    "    return {\"messages\": [llm_with_tools.invoke([sys_msg] + state[\"messages\"])]}"
   ],
   "id": "ce1e0ced968f2ad9",
   "outputs": [],
   "execution_count": 72
  },
  {
   "metadata": {
    "ExecuteTime": {
     "end_time": "2025-03-12T16:31:11.780644Z",
     "start_time": "2025-03-12T16:31:11.315679Z"
    }
   },
   "cell_type": "code",
   "source": [
    "from langgraph.graph import START, StateGraph\n",
    "from langgraph.prebuilt import tools_condition, ToolNode\n",
    "from IPython.display import Image, display\n",
    "\n",
    "# Gráfico\n",
    "builder = StateGraph(MessagesState)\n",
    "\n",
    "# Definir nodos: estos realizan el trabajo\n",
    "builder.add_node(\"assistant\", assistant)\n",
    "builder.add_node(\"tools\", ToolNode(tools))\n",
    "\n",
    "# Definir bordes: estos determinan cómo se mueve el flujo de control\n",
    "builder.add_edge(START, \"assistant\")\n",
    "builder.add_conditional_edges(\n",
    "    \"assistant\",\n",
    "    # Si el último mensaje (resultado) del asistente es una llamada a una herramienta -> tools_condition redirige a tools.\n",
    "    # Si el último mensaje (resultado) del asistente no es una llamada a una herramienta -> tools_condition redirige a END.\n",
    "    tools_condition,\n",
    ")\n",
    "builder.add_edge(\"tools\", \"assistant\")\n",
    "react_graph = builder.compile()\n",
    "\n",
    "# Mostrar\n",
    "display(Image(react_graph.get_graph(xray=True).draw_mermaid_png()))"
   ],
   "id": "e63c3713d380d1de",
   "outputs": [
    {
     "data": {
      "image/png": "[encoded data removed]",
      "text/plain": [
       "<IPython.core.display.Image object>"
      ]
     },
     "metadata": {},
     "output_type": "display_data"
    }
   ],
   "execution_count": 73
  },
  {
   "metadata": {},
   "cell_type": "markdown",
   "source": [
    "## Memoria\n",
    "La memoria es crucial para los agentes, ya que les permite retener y utilizar información a lo largo de múltiples pasos en la resolución de problemas. Opera en diferentes escalas:\n",
    "\n",
    "- **Memoria a corto plazo:** Permite al agente acceder a la información adquirida durante los pasos anteriores en una secuencia.\n",
    "\n",
    "- **Memoria a largo plazo:** Permite al agente recordar información de interacciones previas, como mensajes pasados en una conversación."
   ],
   "id": "a29c124e20dfe334"
  },
  {
   "metadata": {
    "ExecuteTime": {
     "end_time": "2025-03-12T16:31:14.151504Z",
     "start_time": "2025-03-12T16:31:11.793573Z"
    }
   },
   "cell_type": "code",
   "source": [
    "messages = [HumanMessage(content=\"Suma 3 y 4.\")]\n",
    "messages = react_graph.invoke({\"messages\": messages})\n",
    "\n",
    "for m in messages['messages']:\n",
    "    m.pretty_print()"
   ],
   "id": "aa0c5816e9e1ed28",
   "outputs": [
    {
     "name": "stdout",
     "output_type": "stream",
     "text": [
      "================================\u001B[1m Human Message \u001B[0m=================================\n",
      "\n",
      "Suma 3 y 4.\n",
      "==================================\u001B[1m Ai Message \u001B[0m==================================\n",
      "Tool Calls:\n",
      "  add (call_KCWObfbIzt5wrx5x5fGRduS4)\n",
      " Call ID: call_KCWObfbIzt5wrx5x5fGRduS4\n",
      "  Args:\n",
      "    a: 3\n",
      "    b: 4\n",
      "=================================\u001B[1m Tool Message \u001B[0m=================================\n",
      "Name: add\n",
      "\n",
      "7\n",
      "==================================\u001B[1m Ai Message \u001B[0m==================================\n",
      "\n",
      "La suma de 3 y 4 es 7.\n"
     ]
    }
   ],
   "execution_count": 74
  },
  {
   "metadata": {},
   "cell_type": "markdown",
   "source": [
    "No retenemos la memoria de 7 de nuestro chat inicial.\n",
    "\n",
    "Esto se debe a que el estado es transitorio en una única ejecución del gráfico.\n",
    "\n",
    "Por supuesto, esto limita nuestra capacidad para tener conversaciones de múltiples turnos con interrupciones.\n",
    "\n",
    "Podemos usar la persistencia para solucionar esto.\n",
    "\n",
    "LangGraph puede usar un checkpoint para guardar automáticamente el estado del gráfico después de cada paso.\n",
    "\n",
    "Esta capa de persistencia integrada nos proporciona memoria, permitiendo que LangGraph continúe desde la última actualización del estado.\n",
    "\n",
    "Uno de los checkpoints más fáciles de usar es MemorySaver, un almacenamiento en memoria basado en clave-valor para el estado del gráfico.\n",
    "\n",
    "Todo lo que necesitamos hacer es simplemente compilar el gráfico con un checkpoint, ¡y nuestro gráfico tendrá memoria!"
   ],
   "id": "36273b467940782f"
  },
  {
   "metadata": {
    "ExecuteTime": {
     "end_time": "2025-03-12T16:31:17.909820Z",
     "start_time": "2025-03-12T16:31:14.166786Z"
    }
   },
   "cell_type": "code",
   "source": [
    "messages = [HumanMessage(content=\"Ahora multiplicalo por 7\")]\n",
    "messages = react_graph.invoke({\"messages\": messages})\n",
    "\n",
    "for m in messages['messages']:\n",
    "    m.pretty_print()"
   ],
   "id": "45bacd636dcde631",
   "outputs": [
    {
     "name": "stdout",
     "output_type": "stream",
     "text": [
      "================================\u001B[1m Human Message \u001B[0m=================================\n",
      "\n",
      "Ahora multiplicalo por 7\n",
      "==================================\u001B[1m Ai Message \u001B[0m==================================\n",
      "Tool Calls:\n",
      "  multiply (call_vUYObfhxl7LjLkquKfKSUHvd)\n",
      " Call ID: call_vUYObfhxl7LjLkquKfKSUHvd\n",
      "  Args:\n",
      "    a: 2\n",
      "    b: 7\n",
      "=================================\u001B[1m Tool Message \u001B[0m=================================\n",
      "Name: multiply\n",
      "\n",
      "14\n",
      "==================================\u001B[1m Ai Message \u001B[0m==================================\n",
      "\n",
      "El resultado de multiplicar 2 por 7 es 14.\n"
     ]
    }
   ],
   "execution_count": 75
  },
  {
   "metadata": {},
   "cell_type": "markdown",
   "source": "## Agregando Memoria al Agente",
   "id": "5fd11f3daaa595b2"
  },
  {
   "metadata": {
    "ExecuteTime": {
     "end_time": "2025-03-12T16:31:17.915830Z",
     "start_time": "2025-03-12T16:31:17.913111Z"
    }
   },
   "cell_type": "code",
   "source": [
    "from langgraph.checkpoint.memory import MemorySaver\n",
    "memory = MemorySaver()\n",
    "react_graph_memory = builder.compile(checkpointer=memory)"
   ],
   "id": "80b741a98704a4e1",
   "outputs": [],
   "execution_count": 76
  },
  {
   "metadata": {},
   "cell_type": "markdown",
   "source": [
    "\n",
    "Cuando usamos memoria, necesitamos especificar un `thread_id`.\n",
    "\n",
    "Este `thread_id` almacenará nuestra colección de estados del gráfico.\n",
    "\n",
    "### Explicación con un esquema:\n",
    "- El checkpoint escribe el estado en cada paso del gráfico.\n",
    "- Estos checkpoints se guardan en un hilo (thread).\n",
    "- Podemos acceder a ese hilo en el futuro usando el `thread_id`.\n",
    "\n",
    "![Esta es una imagen de ejemplo](img/thread.png \"Imagen de ejemplo\")\n",
    "\n",
    "\n"
   ],
   "id": "8c9d97d0f8fa539b"
  },
  {
   "metadata": {
    "ExecuteTime": {
     "end_time": "2025-03-12T16:31:19.104120Z",
     "start_time": "2025-03-12T16:31:17.932321Z"
    }
   },
   "cell_type": "code",
   "source": [
    "# Specify a thread\n",
    "config = {\"configurable\": {\"thread_id\": \"1\"}}\n",
    "\n",
    "# Specify an input\n",
    "messages = [HumanMessage(content=\"Suma 3 y 4.\")]\n",
    "\n",
    "# Run\n",
    "messages = react_graph_memory.invoke({\"messages\": messages}, config)\n",
    "for m in messages['messages']:\n",
    "    m.pretty_print()"
   ],
   "id": "55f84aa0f16f3dbf",
   "outputs": [
    {
     "name": "stdout",
     "output_type": "stream",
     "text": [
      "================================\u001B[1m Human Message \u001B[0m=================================\n",
      "\n",
      "Suma 3 y 4.\n",
      "==================================\u001B[1m Ai Message \u001B[0m==================================\n",
      "Tool Calls:\n",
      "  add (call_Djq8l2y8eYBEHq2R0u5cI91w)\n",
      " Call ID: call_Djq8l2y8eYBEHq2R0u5cI91w\n",
      "  Args:\n",
      "    a: 3\n",
      "    b: 4\n",
      "=================================\u001B[1m Tool Message \u001B[0m=================================\n",
      "Name: add\n",
      "\n",
      "7\n",
      "==================================\u001B[1m Ai Message \u001B[0m==================================\n",
      "\n",
      "La suma de 3 y 4 es 7.\n"
     ]
    }
   ],
   "execution_count": 77
  },
  {
   "metadata": {},
   "cell_type": "markdown",
   "source": [
    "\n",
    "Si pasamos el mismo `thread_id`, entonces podemos continuar desde el último estado guardado en el checkpoint.\n",
    "\n",
    "En este caso, la conversación anterior queda almacenada en el hilo (thread).\n",
    "\n",
    "El `HumanMessage` que enviamos (`\"Multiplicalo por 2.\"`) se agrega a la conversación anterior.\n",
    "\n",
    "Por lo tanto, el modelo ahora sabe que `that` se refiere a **\"The sum of 3 and 4 is 7.\"**."
   ],
   "id": "7644b3522a41e038"
  },
  {
   "metadata": {
    "ExecuteTime": {
     "end_time": "2025-03-12T16:31:20.261979Z",
     "start_time": "2025-03-12T16:31:19.112035Z"
    }
   },
   "cell_type": "code",
   "source": [
    "messages = [HumanMessage(content = \"Multiplicalo por 2.\")]\n",
    "messages = react_graph_memory.invoke({\"messages\": messages}, config)\n",
    "\n",
    "for m in messages['messages']:\n",
    "    m.pretty_print()"
   ],
   "id": "1292110064d69596",
   "outputs": [
    {
     "name": "stdout",
     "output_type": "stream",
     "text": [
      "================================\u001B[1m Human Message \u001B[0m=================================\n",
      "\n",
      "Suma 3 y 4.\n",
      "==================================\u001B[1m Ai Message \u001B[0m==================================\n",
      "Tool Calls:\n",
      "  add (call_Djq8l2y8eYBEHq2R0u5cI91w)\n",
      " Call ID: call_Djq8l2y8eYBEHq2R0u5cI91w\n",
      "  Args:\n",
      "    a: 3\n",
      "    b: 4\n",
      "=================================\u001B[1m Tool Message \u001B[0m=================================\n",
      "Name: add\n",
      "\n",
      "7\n",
      "==================================\u001B[1m Ai Message \u001B[0m==================================\n",
      "\n",
      "La suma de 3 y 4 es 7.\n",
      "================================\u001B[1m Human Message \u001B[0m=================================\n",
      "\n",
      "Multiplicalo por 2.\n",
      "==================================\u001B[1m Ai Message \u001B[0m==================================\n",
      "Tool Calls:\n",
      "  multiply (call_OHTYKCdX2yKq4tTrmNT8XfaN)\n",
      " Call ID: call_OHTYKCdX2yKq4tTrmNT8XfaN\n",
      "  Args:\n",
      "    a: 7\n",
      "    b: 2\n",
      "=================================\u001B[1m Tool Message \u001B[0m=================================\n",
      "Name: multiply\n",
      "\n",
      "14\n",
      "==================================\u001B[1m Ai Message \u001B[0m==================================\n",
      "\n",
      "Multiplicando 7 por 2, el resultado es 14.\n"
     ]
    }
   ],
   "execution_count": 78
  },
  {
   "metadata": {
    "ExecuteTime": {
     "end_time": "2025-03-12T16:31:48.463372Z",
     "start_time": "2025-03-12T16:31:45.687565Z"
    }
   },
   "cell_type": "code",
   "source": [
    "messages = [HumanMessage(content = \"Escribelo en palabras.\")]\n",
    "messages = react_graph_memory.invoke({\"messages\": messages}, config)\n",
    "\n",
    "for m in messages['messages']:\n",
    "    m.pretty_print()"
   ],
   "id": "6c8ead707e5c9d28",
   "outputs": [
    {
     "name": "stdout",
     "output_type": "stream",
     "text": [
      "================================\u001B[1m Human Message \u001B[0m=================================\n",
      "\n",
      "Suma 3 y 4.\n",
      "==================================\u001B[1m Ai Message \u001B[0m==================================\n",
      "Tool Calls:\n",
      "  add (call_Djq8l2y8eYBEHq2R0u5cI91w)\n",
      " Call ID: call_Djq8l2y8eYBEHq2R0u5cI91w\n",
      "  Args:\n",
      "    a: 3\n",
      "    b: 4\n",
      "=================================\u001B[1m Tool Message \u001B[0m=================================\n",
      "Name: add\n",
      "\n",
      "7\n",
      "==================================\u001B[1m Ai Message \u001B[0m==================================\n",
      "\n",
      "La suma de 3 y 4 es 7.\n",
      "================================\u001B[1m Human Message \u001B[0m=================================\n",
      "\n",
      "Multiplicalo por 2.\n",
      "==================================\u001B[1m Ai Message \u001B[0m==================================\n",
      "Tool Calls:\n",
      "  multiply (call_OHTYKCdX2yKq4tTrmNT8XfaN)\n",
      " Call ID: call_OHTYKCdX2yKq4tTrmNT8XfaN\n",
      "  Args:\n",
      "    a: 7\n",
      "    b: 2\n",
      "=================================\u001B[1m Tool Message \u001B[0m=================================\n",
      "Name: multiply\n",
      "\n",
      "14\n",
      "==================================\u001B[1m Ai Message \u001B[0m==================================\n",
      "\n",
      "Multiplicando 7 por 2, el resultado es 14.\n",
      "================================\u001B[1m Human Message \u001B[0m=================================\n",
      "\n",
      "Escribelo en palabras.\n",
      "==================================\u001B[1m Ai Message \u001B[0m==================================\n",
      "Tool Calls:\n",
      "  int_to_text (call_fRdXNGNMNcxg7f38ZHV83D5L)\n",
      " Call ID: call_fRdXNGNMNcxg7f38ZHV83D5L\n",
      "  Args:\n",
      "    a: 14\n",
      "=================================\u001B[1m Tool Message \u001B[0m=================================\n",
      "Name: int_to_text\n",
      "\n",
      "fourteen\n",
      "==================================\u001B[1m Ai Message \u001B[0m==================================\n",
      "\n",
      "El número 14 en palabras es \"catorce\".\n"
     ]
    }
   ],
   "execution_count": 79
  }
 ],
 "metadata": {
  "kernelspec": {
   "display_name": "Python 3",
   "language": "python",
   "name": "python3"
  },
  "language_info": {
   "codemirror_mode": {
    "name": "ipython",
    "version": 2
   },
   "file_extension": ".py",
   "mimetype": "text/x-python",
   "name": "python",
   "nbconvert_exporter": "python",
   "pygments_lexer": "ipython2",
   "version": "2.7.6"
  }
 },
 "nbformat": 4,
 "nbformat_minor": 5
}
